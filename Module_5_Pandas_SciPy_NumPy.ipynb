{
 "cells": [
  {
   "cell_type": "markdown",
   "metadata": {},
   "source": [
    "# Lesson 5\n",
    "\n",
    "## Topics:\n",
    "\n",
    " - Numpy\n",
    " - Pandas\n",
    "\n",
    "Why Numpy (and Scipy)?\n",
    "\n",
    "#### We are scientists doing computing. So we need 'scientific computing'! Numpy and Scipy make python the elite programming language for scientists.\n",
    "\n",
    "Think of Numpy and Scipy as superpowers - they enable us to do computations that are too onerous to code every time and/or out of reach of the data structures we have studied till date. We will just learn the basics today, just enough for you to explore further on your own.\n",
    "\n",
    "We will not cover Scipy, but I highly recommend trying on your own if your projects require high-level computing: http://scipy-lectures.org/intro/scipy.html \n",
    "\n",
    "### Numpy\n",
    "\n",
    "The basic component of numpy is the ndarray or the n dimensional array. All elements of the array are the same type and the dimensions of the array are called axes. For example, a 3D coordinate of an atom that we talked about previously: [1.123, 2.3232, 4.232] can be a numpy array with one axis.\n"
   ]
  },
  {
   "cell_type": "code",
   "execution_count": 1,
   "metadata": {},
   "outputs": [],
   "source": [
    "import numpy as np"
   ]
  },
  {
   "cell_type": "code",
   "execution_count": 2,
   "metadata": {},
   "outputs": [
    {
     "name": "stdout",
     "output_type": "stream",
     "text": [
      "[[1 2 3]\n",
      " [4 5 6]\n",
      " [7 8 9]]\n",
      "Number of axes:  2\n",
      "Dimensions of the array are: (3, 3)\n"
     ]
    }
   ],
   "source": [
    "#alist = [1,2,3,4,5,6,7,8,9]\n",
    "alist = [(1,2,3),(4,5,6),(7,8,9)]\n",
    "a_ndarray = np.array(alist)\n",
    "print(a_ndarray)\n",
    "#ndim prints the number of dimensions of the array\n",
    "print(\"Number of axes: \",a_ndarray.ndim)\n",
    "#shape prints dimensions of the array\n",
    "print(\"Dimensions of the array are:\",a_ndarray.shape)"
   ]
  },
  {
   "cell_type": "code",
   "execution_count": 3,
   "metadata": {},
   "outputs": [
    {
     "name": "stdout",
     "output_type": "stream",
     "text": [
      "[[1 2 3]\n",
      " [4 5 6]\n",
      " [7 8 9]]\n",
      "int32\n"
     ]
    }
   ],
   "source": [
    "#reshape returns an ndarray of specified \"shape\"\n",
    "alist = [1,2,3,4,5,6,7,8,9]\n",
    "a_ndarray = np.array(alist)\n",
    "a_matrix = a_ndarray.reshape(3,3)\n",
    "print(a_matrix)\n",
    "#What type of items are in the array?\n",
    "print(a_matrix.dtype)\n",
    "\n",
    "#U1 means string of 1 character (replace 1 with 'a' to geenrate this)"
   ]
  },
  {
   "cell_type": "code",
   "execution_count": 4,
   "metadata": {},
   "outputs": [
    {
     "data": {
      "text/plain": [
       "array([[1., 2.],\n",
       "       [3., 4.]])"
      ]
     },
     "execution_count": 4,
     "metadata": {},
     "output_type": "execute_result"
    }
   ],
   "source": [
    "#The itemtypes are really important for ndarray - item types cannot mix unlike dictionary or list.\n",
    "#So you can specify item type just to be careful:\n",
    "\n",
    "c = np.array( [ [1,2], [3,4] ], dtype=float )\n",
    "c"
   ]
  },
  {
   "cell_type": "code",
   "execution_count": 5,
   "metadata": {},
   "outputs": [
    {
     "data": {
      "text/plain": [
       "array([ 0,  5, 10, 15, 20, 25])"
      ]
     },
     "execution_count": 5,
     "metadata": {},
     "output_type": "execute_result"
    }
   ],
   "source": [
    "#to create a range, the function used is arange:\n",
    "a = np.arange( 0, 26, 5 ) #the output becomes an ndarray\n",
    "a"
   ]
  },
  {
   "cell_type": "code",
   "execution_count": 6,
   "metadata": {},
   "outputs": [
    {
     "name": "stdout",
     "output_type": "stream",
     "text": [
      "[0.         1.57079633 3.14159265 4.71238898 6.28318531]\n"
     ]
    },
    {
     "data": {
      "text/plain": [
       "array([ 0.0000000e+00,  1.0000000e+00,  1.2246468e-16, -1.0000000e+00,\n",
       "       -2.4492936e-16])"
      ]
     },
     "execution_count": 6,
     "metadata": {},
     "output_type": "execute_result"
    }
   ],
   "source": [
    "from numpy import pi\n",
    "x = np.linspace( 0, 2*pi, 5 )   # useful to evaluate function at lots of points\n",
    "print(x)\n",
    "f = np.sin(x)\n",
    "f"
   ]
  },
  {
   "cell_type": "markdown",
   "metadata": {},
   "source": [
    "Let us revisit plotting : I googled, and found this page: https://matplotlib.org/gallery/lines_bars_and_markers/simple_plot.html"
   ]
  },
  {
   "cell_type": "code",
   "execution_count": 7,
   "metadata": {},
   "outputs": [
    {
     "data": {
      "image/png": "[encoded data removed]",
      "text/plain": [
       "<Figure size 432x288 with 1 Axes>"
      ]
     },
     "metadata": {
      "needs_background": "light"
     },
     "output_type": "display_data"
    }
   ],
   "source": [
    "#the shape of this plot depends on number of samples in linspace above (change to 20 > smooth plot)\n",
    "\n",
    "import matplotlib\n",
    "import matplotlib.pyplot as plt\n",
    "\n",
    "fig, ax = plt.subplots()\n",
    "\n",
    "ax.plot(x, f, color='black',label=\"sin(x)\")\n",
    "#ax.plot(x*360/(2*pi), f, color='black',label=\"sin(x)\") convert to degrees\n",
    "\n",
    "ax.set(xlabel='Angle', ylabel='Read Density')\n",
    "\n",
    "plt.legend()\n",
    "\n",
    "plt.show()"
   ]
  },
  {
   "cell_type": "code",
   "execution_count": 8,
   "metadata": {},
   "outputs": [
    {
     "name": "stdout",
     "output_type": "stream",
     "text": [
      "[1 2 3 4]\n",
      "[5 6 7 8]\n",
      "[ 6  8 10 12]\n",
      "[-4 -4 -4 -4]\n",
      "[ 5 12 21 32]\n"
     ]
    }
   ],
   "source": [
    "#Operations!\n",
    "#All operations in numpy arrays occur elementwise\n",
    "\n",
    "A = np.array([1,2,3,4])\n",
    "B = np.array([5,6,7,8])\n",
    "\n",
    "print(A)\n",
    "print(B)\n",
    "\n",
    "print(A+B)\n",
    "print(A-B)\n",
    "print(A*B)"
   ]
  },
  {
   "cell_type": "code",
   "execution_count": 9,
   "metadata": {},
   "outputs": [
    {
     "name": "stdout",
     "output_type": "stream",
     "text": [
      "[[1 2]\n",
      " [3 4]]\n",
      "[[5 6]\n",
      " [7 8]]\n",
      "[[ 6  8]\n",
      " [10 12]]\n",
      "[[-4 -4]\n",
      " [-4 -4]]\n",
      "[[ 5 12]\n",
      " [21 32]]\n"
     ]
    }
   ],
   "source": [
    "#Operations!\n",
    "#All operations in numpy arrays occur elementwise\n",
    "\n",
    "A = np.array([1,2,3,4]).reshape(2,2)\n",
    "B = np.array([5,6,7,8]).reshape(2,2)\n",
    "\n",
    "print(A)\n",
    "print(B)\n",
    "\n",
    "print(A+B)\n",
    "print(A-B)\n",
    "print(A*B)"
   ]
  },
  {
   "cell_type": "markdown",
   "metadata": {},
   "source": [
    "The biggest advantage of numpy arrays are matrix operations! \"@\" is used for matrix multiplication. Here is an example (multiplying a 1x4 matrix with a 4x1 matrix gives a 1,1 matrix):<br>\n",
    "`\n",
    "[1 2 3 4] . |1|  = [30]\n",
    "            |2|  \n",
    "            |3|  \n",
    "            |4|  \n",
    "            `\n",
    " <br>m x n matrix can be multiplied by n x l matrix to give m x l matrix"
   ]
  },
  {
   "cell_type": "code",
   "execution_count": 10,
   "metadata": {},
   "outputs": [
    {
     "name": "stdout",
     "output_type": "stream",
     "text": [
      "[1 2 3 4]\n",
      "[[1]\n",
      " [2]\n",
      " [3]\n",
      " [4]]\n",
      "[30]\n"
     ]
    }
   ],
   "source": [
    "A = np.array(np.arange(1,5))\n",
    "B = np.array(np.arange(1,5)).reshape(4,1) #to make single column\n",
    "print(A)\n",
    "print(B)\n",
    "print(A@B) #matrix multiplication"
   ]
  },
  {
   "cell_type": "code",
   "execution_count": 11,
   "metadata": {},
   "outputs": [
    {
     "name": "stdout",
     "output_type": "stream",
     "text": [
      "[[ 1  2  3  4  5]\n",
      " [ 6  7  8  9 10]]\n",
      "[[ 1  2  3  4]\n",
      " [ 5  6  7  8]\n",
      " [ 9 10 11 12]\n",
      " [13 14 15 16]\n",
      " [17 18 19 20]]\n",
      "(2, 5) (5, 4) (2, 4)\n"
     ]
    }
   ],
   "source": [
    "A = np.array(np.arange(1,11)).reshape(2,5)\n",
    "B = np.array(np.arange(1,21)).reshape(5,4)\n",
    "print(A)\n",
    "print(B)\n",
    "C = A@B\n",
    "print(A.shape,B.shape,C.shape)"
   ]
  },
  {
   "cell_type": "code",
   "execution_count": 12,
   "metadata": {},
   "outputs": [
    {
     "data": {
      "text/plain": [
       "array([[-0.33333333,  0.66666667],\n",
       "       [ 0.66666667, -0.33333333]])"
      ]
     },
     "execution_count": 12,
     "metadata": {},
     "output_type": "execute_result"
    }
   ],
   "source": [
    "#To calculate inverse of a matrix\n",
    "from numpy.linalg import inv\n",
    "A = [[1,2],[2,1]]\n",
    "inv_A = inv(A)\n",
    "inv_A"
   ]
  },
  {
   "cell_type": "code",
   "execution_count": 13,
   "metadata": {},
   "outputs": [
    {
     "data": {
      "text/plain": [
       "array([[1., 0.],\n",
       "       [0., 1.]])"
      ]
     },
     "execution_count": 13,
     "metadata": {},
     "output_type": "execute_result"
    }
   ],
   "source": [
    "#Did the inverse work?\n",
    "inv_A@A"
   ]
  },
  {
   "cell_type": "markdown",
   "metadata": {},
   "source": [
    "Let us get back to one dimensional arrays and look at some powerful operations numpy permits. First is random number generation. (https://docs.scipy.org/doc/numpy-1.15.1/reference/routines.random.html)\n"
   ]
  },
  {
   "cell_type": "code",
   "execution_count": 14,
   "metadata": {},
   "outputs": [
    {
     "name": "stdout",
     "output_type": "stream",
     "text": [
      "[-1.68260158 -1.30712623 -2.15480382  1.79284463  2.26923881  0.60842579\n",
      " -1.74833842 -2.29097983  0.32690084  0.38623683  0.73579366 -1.3089831\n",
      "  0.32404613 -1.9853827  -0.97120777  0.52762617  0.79227713  0.81595799\n",
      "  0.97267174  0.39937039 -1.11154863  1.83503768 -2.1497421  -1.57756532\n",
      " -0.4638154   1.22464433  2.42836112  2.00315249 -2.25005573 -1.35744424\n",
      "  0.64173815 -1.32101244 -1.51875852 -0.78304567  0.86127924  1.57137771\n",
      "  0.98724565  1.44880765  1.05460388  0.09985623 -0.06216924  0.43408826\n",
      "  2.46495695 -1.78797552 -1.11619622 -0.50158349 -1.79891842 -1.20710319\n",
      "  2.35503691  0.69266412  0.4750234  -0.98702975  0.42577087  1.59194473\n",
      " -1.97910099  1.41079901  0.04715361 -1.60766032 -1.15585472  0.58210933\n",
      "  1.63632918 -1.0748641  -0.25011704  1.60746409 -0.06817094 -1.61698997\n",
      "  0.52813211 -0.79645029 -1.62336048 -0.96428083  0.41243648 -0.39841971\n",
      "  0.14981135 -1.51761511 -0.96342564  1.33498785 -0.05106958 -1.46158647\n",
      " -0.34509564  2.16266292  2.36014892  1.5360561  -2.17611906 -0.09626878\n",
      " -2.38347225 -2.07179814  0.21083138 -1.25974983 -0.07151469  2.32055428\n",
      " -1.97160273  1.1301014   0.58156958  2.13942087  1.81071308  2.11801036\n",
      "  0.45039882  2.36026942 -1.9449064   0.16928117]\n"
     ]
    }
   ],
   "source": [
    "a_random_array = np.random.rand(100)*5-2.5 #the range of randoms\n",
    "\n",
    "print(a_random_array)\n",
    "\n",
    "#what if I want random sampling from a Gaussian distribution?\n",
    "\n",
    "mean = 10 #mean of the distribution\n",
    "sd  = 2 #standard deviation of the distribution\n",
    "\n",
    "a_random_array = np.random.normal(mean,sd,10000)\n",
    "#a_random_array"
   ]
  },
  {
   "cell_type": "code",
   "execution_count": 15,
   "metadata": {},
   "outputs": [
    {
     "data": {
      "image/png": "[encoded data removed]",
      "text/plain": [
       "<Figure size 432x288 with 1 Axes>"
      ]
     },
     "metadata": {
      "needs_background": "light"
     },
     "output_type": "display_data"
    }
   ],
   "source": [
    "#did it really work?? Let us make a histogram to check\n",
    "\n",
    "plt.hist(a_random_array, bins=60) #plt.hist automatically makes a histogram\n",
    "plt.show()"
   ]
  },
  {
   "cell_type": "markdown",
   "metadata": {},
   "source": [
    "### If you are nostalgic for R...\n",
    "\n",
    "You don't have to go out of jupyter!\n",
    "\n",
    " - pandas - R-like dataframes in python"
   ]
  },
  {
   "cell_type": "code",
   "execution_count": 16,
   "metadata": {},
   "outputs": [],
   "source": [
    "import pandas as pd"
   ]
  },
  {
   "cell_type": "markdown",
   "metadata": {},
   "source": [
    "Pandas works on dataframe. Similar to ndarray in numpy, you can convert your familiar datastructures into a dataframe."
   ]
  },
  {
   "cell_type": "code",
   "execution_count": 17,
   "metadata": {},
   "outputs": [
    {
     "name": "stdout",
     "output_type": "stream",
     "text": [
      "{'name': 'Srinivas', 'floor': 9, 'fav_things': ['uracil', '2primehydroxyls', 'polyAtails']}\n"
     ]
    },
    {
     "data": {
      "text/html": [
       "<div>\n",
       "<style scoped>\n",
       "    .dataframe tbody tr th:only-of-type {\n",
       "        vertical-align: middle;\n",
       "    }\n",
       "\n",
       "    .dataframe tbody tr th {\n",
       "        vertical-align: top;\n",
       "    }\n",
       "\n",
       "    .dataframe thead th {\n",
       "        text-align: right;\n",
       "    }\n",
       "</style>\n",
       "<table border=\"1\" class=\"dataframe\">\n",
       "  <thead>\n",
       "    <tr style=\"text-align: right;\">\n",
       "      <th></th>\n",
       "      <th>name</th>\n",
       "      <th>floor</th>\n",
       "      <th>fav_things</th>\n",
       "    </tr>\n",
       "  </thead>\n",
       "  <tbody>\n",
       "    <tr>\n",
       "      <th>0</th>\n",
       "      <td>Srinivas</td>\n",
       "      <td>9</td>\n",
       "      <td>uracil</td>\n",
       "    </tr>\n",
       "    <tr>\n",
       "      <th>1</th>\n",
       "      <td>Srinivas</td>\n",
       "      <td>9</td>\n",
       "      <td>2primehydroxyls</td>\n",
       "    </tr>\n",
       "    <tr>\n",
       "      <th>2</th>\n",
       "      <td>Srinivas</td>\n",
       "      <td>9</td>\n",
       "      <td>polyAtails</td>\n",
       "    </tr>\n",
       "  </tbody>\n",
       "</table>\n",
       "</div>"
      ],
      "text/plain": [
       "       name  floor       fav_things\n",
       "0  Srinivas      9           uracil\n",
       "1  Srinivas      9  2primehydroxyls\n",
       "2  Srinivas      9       polyAtails"
      ]
     },
     "execution_count": 17,
     "metadata": {},
     "output_type": "execute_result"
    }
   ],
   "source": [
    "instructor = {'name' : 'Srinivas', 'floor' : 9, 'fav_things' : ['uracil', '2primehydroxyls', 'polyAtails']}\n",
    "print(instructor)\n",
    "pd.DataFrame(instructor)"
   ]
  },
  {
   "cell_type": "markdown",
   "metadata": {},
   "source": [
    "But it is really powerful when you can read data files. Let us try reading a \"csv\" file with expression values of different genes in the cell line K562:"
   ]
  },
  {
   "cell_type": "code",
   "execution_count": 18,
   "metadata": {},
   "outputs": [
    {
     "data": {
      "text/html": [
       "<div>\n",
       "<style scoped>\n",
       "    .dataframe tbody tr th:only-of-type {\n",
       "        vertical-align: middle;\n",
       "    }\n",
       "\n",
       "    .dataframe tbody tr th {\n",
       "        vertical-align: top;\n",
       "    }\n",
       "\n",
       "    .dataframe thead th {\n",
       "        text-align: right;\n",
       "    }\n",
       "</style>\n",
       "<table border=\"1\" class=\"dataframe\">\n",
       "  <thead>\n",
       "    <tr style=\"text-align: right;\">\n",
       "      <th></th>\n",
       "      <th>0</th>\n",
       "      <th>1</th>\n",
       "      <th>2</th>\n",
       "      <th>3</th>\n",
       "      <th>4</th>\n",
       "      <th>5</th>\n",
       "    </tr>\n",
       "  </thead>\n",
       "  <tbody>\n",
       "    <tr>\n",
       "      <th>0</th>\n",
       "      <td>ENSG00000000003</td>\n",
       "      <td>TSPAN6</td>\n",
       "      <td>K-562</td>\n",
       "      <td>0.0</td>\n",
       "      <td>FPKM</td>\n",
       "      <td>Not detected</td>\n",
       "    </tr>\n",
       "    <tr>\n",
       "      <th>1</th>\n",
       "      <td>ENSG00000000005</td>\n",
       "      <td>TNMD</td>\n",
       "      <td>K-562</td>\n",
       "      <td>0.0</td>\n",
       "      <td>FPKM</td>\n",
       "      <td>Not detected</td>\n",
       "    </tr>\n",
       "    <tr>\n",
       "      <th>2</th>\n",
       "      <td>ENSG00000000419</td>\n",
       "      <td>DPM1</td>\n",
       "      <td>K-562</td>\n",
       "      <td>78.7</td>\n",
       "      <td>FPKM</td>\n",
       "      <td>High</td>\n",
       "    </tr>\n",
       "    <tr>\n",
       "      <th>3</th>\n",
       "      <td>ENSG00000000457</td>\n",
       "      <td>SCYL3</td>\n",
       "      <td>K-562</td>\n",
       "      <td>5.4</td>\n",
       "      <td>FPKM</td>\n",
       "      <td>Low</td>\n",
       "    </tr>\n",
       "    <tr>\n",
       "      <th>4</th>\n",
       "      <td>ENSG00000000460</td>\n",
       "      <td>C1orf112</td>\n",
       "      <td>K-562</td>\n",
       "      <td>17.0</td>\n",
       "      <td>FPKM</td>\n",
       "      <td>Low</td>\n",
       "    </tr>\n",
       "  </tbody>\n",
       "</table>\n",
       "</div>"
      ],
      "text/plain": [
       "                 0         1      2     3     4             5\n",
       "0  ENSG00000000003    TSPAN6  K-562   0.0  FPKM  Not detected\n",
       "1  ENSG00000000005      TNMD  K-562   0.0  FPKM  Not detected\n",
       "2  ENSG00000000419      DPM1  K-562  78.7  FPKM          High\n",
       "3  ENSG00000000457     SCYL3  K-562   5.4  FPKM           Low\n",
       "4  ENSG00000000460  C1orf112  K-562  17.0  FPKM           Low"
      ]
     },
     "execution_count": 18,
     "metadata": {},
     "output_type": "execute_result"
    }
   ],
   "source": [
    "df_k562 = pd.read_csv(\"k562.csv\",header=None,sep=',')\n",
    "df_k562.head()"
   ]
  },
  {
   "cell_type": "markdown",
   "metadata": {},
   "source": [
    "# Manipulating data frames\n",
    "\n",
    "Tabular data is quite common in genomic analyses.  You can imagine wanting to create and manipulate a table like the following:\n",
    "\n",
    "| Gene | expression in condition 1 | expression in condition 2 | log2 fold change | pvalue |\n",
    "|------|---------------------------|---------------------------|------------------|--------|\n",
    "|GeneA |       100                 | 200                       |        1         |   6e-5 |\n",
    "|GeneB |    50                     | 12.5                      |        -2        |  2e-6  |\n",
    "|GeneC |       40                  |   45                      |   0.17           | 0.55   |\n",
    "\n",
    "\n",
    "Ending up with a table like this often involves **merging** smaller tables together, **selecting** different columns of data from a data frame, **filtering** for rows that match specific conditions, manipulating the **shape** of the table between long and wide formats, and finally, plotting outputs.\n",
    "\n",
    "In this lesson, we will learn how to perform each of these tasks.  "
   ]
  },
  {
   "cell_type": "markdown",
   "metadata": {},
   "source": [
    "## Selecting columns and rows\n",
    "\n",
    "For most of this session, we are going to be working with variations of the following data frame:\n",
    "\n",
    "This dataframe will be referred to as 'df' and be assigned to the variable df.  Very original, I know.\n",
    "\n",
    "| Gene | expression in condition 1 | expression in condition 2 | log2 fold change | pvalue |\n",
    "|------|---------------------------|---------------------------|------------------|--------|\n",
    "|GeneA |       100                 | 200                       |        1         |   6e-5 |\n",
    "|GeneB |    50                     | 12.5                      |        -2        |  2e-6  |\n",
    "|GeneC |       40                  |   45                      |   0.17           | 0.55   |\n",
    "|GeneD |       20                  |   20                      |   0.00           | 1.00   |\n",
    "|GeneE |        1                  |   4                       |   2.00           | 0.15   |\n",
    "|GeneF |       1000                |   800                     |   -0.32          | 0.001  |\n",
    "\n",
    "Let's suppose that we wanted to make a new dataframe that consisted of only some of the columns or rows of df.  In essenece, we want to select a subset of columns and rows from df.  This is done with the **.loc** and **.iloc** methods."
   ]
  },
  {
   "cell_type": "markdown",
   "metadata": {},
   "source": [
    "## Selecting columns and rows with .iloc\n",
    "\n",
    "Selecting columns and rows from a dataframe by their position is easily done with the **.iloc** method.  The syntax is:\n",
    "\n",
    "    subsetdf = df.iloc[firstrowdesired:lastrowdesired, firstcolumndesired:lastcolumndesired]\n",
    "    \n",
    "For example, let's say I wanted only the first two rows of df, but every column. Remember back to when we were slicing lists (see module 2).  We could slice a list by giving the indexes of the first and last items we wanted.\n",
    "\n",
    "    somefruits = fruits[2:4]\n",
    "    \n",
    "The idea is the same here. The index values (i.e. rownames) of the desired rows are given first, followed by the names of the desired columns.  Just as when slicing lists, leaving the value on one side of the colon blank is shorthand for asking for everything from either the beginning or end.\n",
    "\n",
    "    #give me all fruits from the fourth one to the end\n",
    "    somefruits = fruits[3:]\n",
    "    #give me all fruits from the beginning until the fourth one\n",
    "    somefruits = fruits[:4]\n",
    "    \n",
    "Leaving the value blank on *both* sides of the colon gives you everything from *both* ends.  Or, in other words, the entire list (or here, all rows or all columns).\n",
    "\n",
    "> <font color = 'red'>Slightly confusing note 1: </font>  Remember, when selecting from or slicing iterables, python uses a 0-based, half-open indexing system.  This means that if you want the first 3 items, you ask for items[0:3]. You are given everything *up to but not including* the fourth item (i.e. indicies 0, 1, and 2).  iloc follows this convention.\n",
    "\n",
    "> <font color = 'red'>Slightly confusing note 2: </font> Asking for a single index using .iloc instead of a slice will give you a series instead of a dataframe.  This is essentially a list (or a numpy array), but we aren't going to talk much about this.  For selecting things within dataframes, just slice.\n",
    "\n",
    "> <font color = 'red'>Slightly confusing note 3:  </font> Pandas dataframes have things called \"indexes\" which are essentially row names.  These can be set explicitly.  However, if they are not, as in the case of df, they are simply defined as integers, beginning with 0. You can think of the indexes as just another column, but without a column name.  You can see them in the far left any time you visualize a dataframe with df.head() or any other method.\n",
    "\n",
    ".iloc operates on integer-based indexes.  This means you can ask for the third column, but not the column named 'cond2exp'.  (Conversly, with .loc, you can ask for the column name)\n",
    "\n",
    "OK, now that we've got all that down, let's ask for just the first column of df."
   ]
  },
  {
   "cell_type": "code",
   "execution_count": 19,
   "metadata": {},
   "outputs": [
    {
     "name": "stdout",
     "output_type": "stream",
     "text": [
      "    Gene  cond1exp  cond2exp  log2FC    pvalue\n",
      "0  GeneA       100     200.0    1.00  0.000060\n",
      "1  GeneB        50      12.5   -2.00  0.000002\n",
      "2  GeneC        40      45.0    0.17  0.550000\n",
      "3  GeneD        20      20.0    0.00  1.000000\n",
      "4  GeneE         1       4.0    2.00  0.150000 \n",
      "\n",
      "\n",
      "\n",
      "\n",
      "    Gene\n",
      "0  GeneA\n",
      "1  GeneB\n",
      "2  GeneC\n",
      "3  GeneD\n",
      "4  GeneE\n"
     ]
    }
   ],
   "source": [
    "import pandas as pd\n",
    "\n",
    "#Defining the dataframe\n",
    "d = {'Gene': ['GeneA', 'GeneB', 'GeneC', 'GeneD', 'GeneE', 'GeneF'],\n",
    "    'cond1exp' : [100, 50, 40, 20, 1, 1000],\n",
    "    'cond2exp' : [200, 12.5, 45, 20, 4, 800],\n",
    "    'log2FC' : [1, -2, 0.17, 0.00, 2.00, -0.32],\n",
    "    'pvalue' : [6e-5, 2e-6, 0.55, 1.00, 0.15, 0.001]}\n",
    "    \n",
    "df = pd.DataFrame(data = d)\n",
    "\n",
    "#Take a quick look at it.\n",
    "print(df.head(), '\\n\\n\\n\\n') #print some blank lines so we can tell things apart\n",
    "\n",
    "#Get the first column (and every row) of df\n",
    "subsetdf = df.iloc[:, 0:1] #give me all rows and just the first column\n",
    "\n",
    "print(subsetdf.head())"
   ]
  },
  {
   "cell_type": "markdown",
   "metadata": {},
   "source": [
    "OK, great.  What about just the third row and all the columns?"
   ]
  },
  {
   "cell_type": "code",
   "execution_count": 20,
   "metadata": {},
   "outputs": [
    {
     "name": "stdout",
     "output_type": "stream",
     "text": [
      "    Gene  cond1exp  cond2exp  log2FC  pvalue\n",
      "2  GeneC        40      45.0    0.17    0.55\n"
     ]
    }
   ],
   "source": [
    "subsetdf = df.iloc[2:3, :]\n",
    "print(subsetdf.head())"
   ]
  },
  {
   "cell_type": "markdown",
   "metadata": {},
   "source": [
    "## Selecting rows and columns with .loc\n",
    "\n",
    "**.loc** is essentially the same as **.iloc**, except that you can now select by column names or row names.  The same ideas with slicing and ranges apply.  If row names (indexes) have not been explicitly set for a dataframe, they are defined as integers beginning with 0, as discussed above.\n",
    "\n",
    "> <font color = 'red'>Confusing note number 4:</font> although most intervals are half-open, **for .loc, they are closed**.  df.loc[:, 'Gene':'log2FC'] will return all rows and all columns between Gene and log2FC **including log2FC**.\n",
    "\n",
    "The desired rows and/or columns are indicated by putting them in a list."
   ]
  },
  {
   "cell_type": "code",
   "execution_count": 28,
   "metadata": {},
   "outputs": [
    {
     "name": "stdout",
     "output_type": "stream",
     "text": [
      "    Gene  cond1exp\n",
      "0  GeneA       100\n",
      "1  GeneB        50\n",
      "2  GeneC        40\n",
      "3  GeneD        20\n",
      "4  GeneE         1\n"
     ]
    }
   ],
   "source": [
    "#Select the expression values in condition1\n",
    "\n",
    "subsetdf = df.loc[:, 'Gene':'cond1exp']\n",
    "print(subsetdf.head())"
   ]
  },
  {
   "cell_type": "code",
   "execution_count": 22,
   "metadata": {},
   "outputs": [
    {
     "name": "stdout",
     "output_type": "stream",
     "text": [
      "   cond1exp    pvalue\n",
      "0       100  0.000060\n",
      "1        50  0.000002\n",
      "2        40  0.550000\n",
      "3        20  1.000000\n",
      "4         1  0.150000\n",
      "5      1000  0.001000 \n",
      "\n",
      "\n",
      "\n",
      "\n",
      "[100, 50, 40, 20, 1, 1000]\n"
     ]
    }
   ],
   "source": [
    "#Asking for the column name as a string rather than within\n",
    "#a list returns a numpy array instead of a one-column dataframe\n",
    "#This allows us to easily turn the values into a list\n",
    "listofcols = ['cond1exp','pvalue']\n",
    "subsetdf = df.loc[:, listofcols] #notice cond1exp is a string, not contained within a list\n",
    "print(subsetdf,  '\\n\\n\\n\\n')\n",
    "subsetdf = subsetdf.cond1exp.tolist() #turn into list\n",
    "print(subsetdf)"
   ]
  },
  {
   "cell_type": "code",
   "execution_count": 23,
   "metadata": {},
   "outputs": [
    {
     "name": "stdout",
     "output_type": "stream",
     "text": [
      "    Gene  cond1exp  cond2exp  log2FC  pvalue\n",
      "3  GeneD        20      20.0     0.0     1.0\n"
     ]
    }
   ],
   "source": [
    "#Select only the 3rd row\n",
    "subsetdf = df.loc[[3], :]\n",
    "print(subsetdf.head())"
   ]
  },
  {
   "cell_type": "code",
   "execution_count": 24,
   "metadata": {},
   "outputs": [
    {
     "name": "stdout",
     "output_type": "stream",
     "text": [
      "   cond1exp  cond2exp  log2FC    pvalue\n",
      "0       100     200.0    1.00  0.000060\n",
      "1        50      12.5   -2.00  0.000002\n",
      "2        40      45.0    0.17  0.550000\n",
      "3        20      20.0    0.00  1.000000\n",
      "4         1       4.0    2.00  0.150000 \n",
      "\n",
      "\n",
      "\n",
      "\n",
      "   cond1exp  cond2exp  log2FC    pvalue\n",
      "0       100     200.0    1.00  0.000060\n",
      "1        50      12.5   -2.00  0.000002\n",
      "2        40      45.0    0.17  0.550000\n",
      "3        20      20.0    0.00  1.000000\n",
      "4         1       4.0    2.00  0.150000\n"
     ]
    }
   ],
   "source": [
    "#Select the second through fifth columns\n",
    "subsetdf = df.loc[:, ['cond1exp', 'cond2exp', 'log2FC', 'pvalue']]\n",
    "print(subsetdf.head(), '\\n\\n\\n\\n')\n",
    "\n",
    "#This is equivalent to using a range and slicing\n",
    "#When slicing, the ids do not go in a list\n",
    "subsetdf = df.loc[:, 'cond1exp':'pvalue']\n",
    "print(subsetdf.head())"
   ]
  },
  {
   "cell_type": "markdown",
   "metadata": {},
   "source": [
    "## Assignments\n",
    "\n",
    "    1. Random number generators are useful in creating dummy data to test robustness of your analysis. Generate values for corresponding to a cosine function in the interval [0,4*pi] and then add noise at 5% and 10% of the value of the cosine function. The output should be two ndarrays.\n",
    "    \n",
    "    Put another way, for each value in your interval, pick a random value that is no more than 5% or 10% away from the real value."
   ]
  },
  {
   "cell_type": "code",
   "execution_count": 101,
   "metadata": {},
   "outputs": [
    {
     "name": "stdout",
     "output_type": "stream",
     "text": [
      "[ 1.          0.99195481  0.9679487   0.92836793  0.87384938  0.80527026\n",
      "  0.72373404  0.63055267  0.52722547  0.41541501  0.29692038  0.17364818\n",
      "  0.04758192 -0.07924996 -0.20480667 -0.32706796 -0.44406661 -0.55392006\n",
      " -0.65486073 -0.74526445 -0.82367658 -0.88883545 -0.93969262 -0.97542979\n",
      " -0.99547192 -0.99949654 -0.98743889 -0.95949297 -0.91610846 -0.85798341\n",
      " -0.78605309 -0.70147489 -0.60560969 -0.5        -0.38634513 -0.26647381\n",
      " -0.14231484 -0.01586596  0.1108382   0.23575894  0.35688622  0.47227107\n",
      "  0.58005691  0.67850941  0.76604444  0.84125353  0.90292654  0.95007112\n",
      "  0.9819287   0.99798668  0.99798668  0.9819287   0.95007112  0.90292654\n",
      "  0.84125353  0.76604444  0.67850941  0.58005691  0.47227107  0.35688622\n",
      "  0.23575894  0.1108382  -0.01586596 -0.14231484 -0.26647381 -0.38634513\n",
      " -0.5        -0.60560969 -0.70147489 -0.78605309 -0.85798341 -0.91610846\n",
      " -0.95949297 -0.98743889 -0.99949654 -0.99547192 -0.97542979 -0.93969262\n",
      " -0.88883545 -0.82367658 -0.74526445 -0.65486073 -0.55392006 -0.44406661\n",
      " -0.32706796 -0.20480667 -0.07924996  0.04758192  0.17364818  0.29692038\n",
      "  0.41541501  0.52722547  0.63055267  0.72373404  0.80527026  0.87384938\n",
      "  0.92836793  0.9679487   0.99195481  1.        ]\n",
      "[ 1.02247221  1.00593673  0.98065776  0.96031386  0.89555144  0.83944562\n",
      "  0.7322045   0.66044162  0.55082299  0.42091347  0.3033775   0.1785097\n",
      "  0.04888137 -0.07976735 -0.20763053 -0.32734212 -0.44426953 -0.56940261\n",
      " -0.67953492 -0.75365842 -0.82828796 -0.92325298 -0.94021327 -1.0026043\n",
      " -1.01968309 -1.0275136  -1.03491128 -0.97741864 -0.9265935  -0.89820545\n",
      " -0.78898942 -0.71350215 -0.60757274 -0.51901358 -0.4015527  -0.27932186\n",
      " -0.14526756 -0.0159317   0.11329215  0.24422249  0.37059538  0.48357674\n",
      "  0.59596095  0.68830329  0.78472007  0.86058369  0.91238214  0.96598159\n",
      "  0.98875752  1.00557283  1.01293638  1.01846597  0.97566521  0.9182618\n",
      "  0.8546327   0.79381871  0.68667858  0.60450014  0.48327007  0.3670887\n",
      "  0.24749726  0.11440469 -0.01621814 -0.1477233  -0.27908971 -0.39724401\n",
      " -0.50929057 -0.63418886 -0.72039736 -0.80216036 -0.88632218 -0.94132366\n",
      " -0.99397511 -1.01719749 -1.0047515  -1.04348575 -1.01427494 -0.9607863\n",
      " -0.9198298  -0.84505799 -0.77002058 -0.67500123 -0.55517593 -0.46487033\n",
      " -0.33240416 -0.2138569  -0.08144491  0.04802968  0.17394628  0.30196665\n",
      "  0.4218358   0.55203441  0.66019122  0.755924    0.81115595  0.88095707\n",
      "  0.94524477  0.98004908  1.00837471  1.01704733]\n",
      "[ 1.07920956  1.02269291  1.06314485  0.97127731  0.90141684  0.82190343\n",
      "  0.77862333  0.67593087  0.54605665  0.44561986  0.29948002  0.1739109\n",
      "  0.05181862 -0.08701897 -0.22279123 -0.33687088 -0.47923042 -0.5817968\n",
      " -0.70337409 -0.81953231 -0.90041806 -0.97224342 -1.02886126 -1.01981689\n",
      " -1.06873876 -1.08677479 -1.04045379 -0.98694841 -0.92911353 -0.93762385\n",
      " -0.85992669 -0.72295558 -0.66481949 -0.50270287 -0.39361157 -0.28843802\n",
      " -0.14644953 -0.01717872  0.11536025  0.24857526  0.38860014  0.50413721\n",
      "  0.59422565  0.74502753  0.79044327  0.85679181  0.95000642  0.97535256\n",
      "  1.01069077  0.99806576  1.07677431  0.98210765  1.02196767  0.92789331\n",
      "  0.9145296   0.76931455  0.70677585  0.58694816  0.5055131   0.37378577\n",
      "  0.25395007  0.11417268 -0.01637018 -0.14338836 -0.28268886 -0.42001808\n",
      " -0.54547374 -0.65115191 -0.75555912 -0.79154836 -0.86056988 -1.00117243\n",
      " -1.05161735 -1.01029618 -1.07271314 -1.05359458 -1.07005119 -0.95678499\n",
      " -0.89670284 -0.84246432 -0.75401726 -0.70505805 -0.5985833  -0.48698\n",
      " -0.33494564 -0.21681796 -0.08552611  0.05039398  0.18693093  0.29934748\n",
      "  0.45525537  0.53013819  0.66924407  0.74065486  0.87245705  0.9301379\n",
      "  0.99141163  1.02169212  0.99300942  1.05120409]\n"
     ]
    }
   ],
   "source": [
    "import numpy as np\n",
    "from numpy import pi\n",
    "\n",
    "cosines_real = np.cos(np.linspace(0,4*pi,100))\n",
    "print(cosines_real)\n",
    "\n",
    "# within 5% of cos(0,4pi)\n",
    "cosines_random_five = (np.random.rand(100)*(.05*cosines_real)) + cosines_real\n",
    "print(cosines_random_five)\n",
    "\n",
    "# within 10% of cos(0,4pi)\n",
    "cosines_random_ten = (np.random.rand(100)*(.1*cosines_real)) + cosines_real\n",
    "print(cosines_random_ten)\n",
    "\n"
   ]
  },
  {
   "cell_type": "markdown",
   "metadata": {},
   "source": [
    "    2. Linear equations can be solved using matrices. Write code to solve for 3 unknowns in the following equations using ndarrays.\n",
    "`\n",
    " w  + 2x + 4y -  z =  7\n",
    "2w  - 2x -  y +  z =  5\n",
    " w  +  x - 3y + 2z = 14\n",
    "3w  + 4x - 5y + 3z = 26\n",
    "`<br><br>\n",
    "The solution is w=1, x=2, y=3, z=10.<br>\n",
    "Here is a link where the math is explained: https://www.mathsisfun.com/algebra/systems-linear-equations-matrices.html"
   ]
  },
  {
   "cell_type": "code",
   "execution_count": 126,
   "metadata": {},
   "outputs": [
    {
     "name": "stdout",
     "output_type": "stream",
     "text": [
      "[[ 1.]\n",
      " [ 2.]\n",
      " [ 3.]\n",
      " [10.]]\n"
     ]
    }
   ],
   "source": [
    "from numpy.linalg import inv\n",
    "\n",
    "coeff = np.array([1,2,4,-1, 2,-2,-1,1, 1,1,-3,2, 3,4,-5,3]).reshape(4,4)\n",
    "\n",
    "rhs = np.array([7,5,14,26]).reshape(4,1)\n",
    "\n",
    "#coeff@variables == rhs, so variables == inv(coeff)@rhs\n",
    "\n",
    "sol = inv(coeff)@rhs\n",
    "print(sol) #ordered [w,x,y,z]\n",
    "\n"
   ]
  },
  {
   "cell_type": "markdown",
   "metadata": {},
   "source": [
    "   `3. The value of pi can be calculated by comparing the area of circle inscribed in a square to the area of the square. We can do this numerically by generating random numbers. Consider the following diagram:`<br>\n",
    "    <img src=\"IMG_20190208_071332424.jpg\">\n",
    "<br>The area of the circle divided by the area of the square (m) = pi.(r\\*\\*2)/4.r\\*\\*2<br>\n",
    "                                                              m  = pi/4<br>\n",
    "                                                            4\\*m = pi<br>\n",
    "We can choose random points that fall within the square to approximate the area of the square: random values of x between 0 and 2, and random values of y between 0 and 2.<br>\n",
    "We can then ask if that random point falls within the circle to approximate area of circle: (x-1)\\*\\*2 + (y-1)\\*\\*2 <= 1<br>\n",
    "\n",
    "So here is the psuedocode:\n",
    "1. Find 1000 random values for x and y between 0 and 2\n",
    "2. Count if that (x,y) lies within the circle (let us call this \"area_of_c\")\n",
    "3. Find pi: 4\\*area_of_c/1000\n",
    "\n",
    "Repeat the same for 10,000 random numbers and 100,000 random numbers.\n"
   ]
  },
  {
   "cell_type": "code",
   "execution_count": 145,
   "metadata": {},
   "outputs": [
    {
     "name": "stdout",
     "output_type": "stream",
     "text": [
      "3.148\n",
      "3.132\n",
      "3.13768\n"
     ]
    }
   ],
   "source": [
    "import numpy as np\n",
    "\n",
    "random_x = np.random.rand(1000)*2 - 1\n",
    "random_y = np.random.rand(1000)*2 - 1\n",
    "\n",
    "circle_array = (random_x*random_x) + (random_y*random_y) <=1 \n",
    "\n",
    "approxi_pi = 4*(np.sum(circle_array))/1000 \n",
    "print(approxi_pi) #3.148 not bad!!\n",
    "\n",
    "#now repeat for 10000 randos\n",
    "\n",
    "random_x2 = np.random.rand(10000)*2 - 1\n",
    "random_y2 = np.random.rand(10000)*2 - 1\n",
    "\n",
    "circle_array2 = (random_x2*random_x2) + (random_y2*random_y2) <=1 \n",
    "\n",
    "approxi_pi2 = 4*(np.sum(circle_array2))/10000 \n",
    "print(approxi_pi2)\n",
    "\n",
    "#repeat for 100000 randos\n",
    "\n",
    "random_x3 = np.random.rand(100000)*2 - 1\n",
    "random_y3 = np.random.rand(100000)*2 - 1\n",
    "\n",
    "circle_array3 = (random_x3*random_x3) + (random_y3*random_y3) <=1 \n",
    "\n",
    "approxi_pi3 = 4*(np.sum(circle_array3))/100000 \n",
    "print(approxi_pi3)\n"
   ]
  }
 ],
 "metadata": {
  "anaconda-cloud": {},
  "kernelspec": {
   "display_name": "Python 3",
   "language": "python",
   "name": "python3"
  },
  "language_info": {
   "codemirror_mode": {
    "name": "ipython",
    "version": 3
   },
   "file_extension": ".py",
   "mimetype": "text/x-python",
   "name": "python",
   "nbconvert_exporter": "python",
   "pygments_lexer": "ipython3",
   "version": "3.7.6"
  }
 },
 "nbformat": 4,
 "nbformat_minor": 1
}
