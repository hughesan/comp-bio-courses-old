{
 "cells": [
  {
   "cell_type": "markdown",
   "metadata": {},
   "source": [
    "## Loops\n",
    "\n",
    "Now that we understand lists and dictionaries, let's put them to use.  Often, if you have a list of items, you may want to perform an action on every item in the list.  This is where loops can help.  We will talk about two types of loops: **for** loops and **while** loops."
   ]
  },
  {
   "cell_type": "markdown",
   "metadata": {},
   "source": [
    "### For loops\n",
    "\n",
    "For loops perform actions on every item in an iterable.  They have the following general structure:\n",
    "\n",
    ">  for *item* in *iterable*:\n",
    ">  \n",
    ">      do something to that item\n",
    ">      do something else to that item\n",
    ">      do a third thing\n",
    ">  \n",
    ">  *After* completing the loop, do this.\n",
    "      \n",
    "This is the first time we've encountered indentation.  Indentation is crucial for Python syntax, and in fact not using it correctly will throw errors.  Here, we've defined a statement, the *for* loop.  At the end of this statement is a required colon.  This defines the end of the statement.  Everything that belongs within this loop, that is, every action that should be performed on each iteration of the loop then goes on the following lines **in an indented block**.  This defines what is within the scope of this loop.  Lines following this block that are not indented will not be run on each loop iteration and will only be run after the loop has completed all iterations.\n",
    "\n",
    "Let's put this into practice now by simply printing each fruit in our list."
   ]
  },
  {
   "cell_type": "code",
   "execution_count": 7,
   "metadata": {},
   "outputs": [
    {
     "name": "stdout",
     "output_type": "stream",
     "text": [
      "apple\n",
      "orange\n",
      "grape\n",
      "banana\n"
     ]
    }
   ],
   "source": [
    "#Define our favorite list\n",
    "fruits = ['apple', 'orange', 'grape', 'banana']\n",
    "\n",
    "#Print each fruit in the list\n",
    "for fruit in fruits:\n",
    "    print(fruit)"
   ]
  },
  {
   "cell_type": "code",
   "execution_count": 8,
   "metadata": {},
   "outputs": [
    {
     "name": "stdout",
     "output_type": "stream",
     "text": [
      "I like to eat apples!!\n",
      "I like to eat oranges!!\n",
      "I like to eat grapes!!\n",
      "I like to eat bananas!!\n"
     ]
    }
   ],
   "source": [
    "#We can also perform actions on each item in each iterations.\n",
    "#For example, let's make them plural and then tell everyone how much we like them.\n",
    "fruits = ['apple', 'orange', 'grape', 'banana']\n",
    "\n",
    "for fruit in fruits:\n",
    "    #Make it plural. Each 'fruit' is simply a string, so we can add the string 's'\n",
    "    pluralfruit = fruit + 's'\n",
    "    print('I like to eat ' + pluralfruit + '!!')"
   ]
  },
  {
   "cell_type": "code",
   "execution_count": 9,
   "metadata": {},
   "outputs": [
    {
     "name": "stdout",
     "output_type": "stream",
     "text": [
      "['apples', 'oranges', 'grapes', 'bananas']\n"
     ]
    }
   ],
   "source": [
    "#Add each modified item to a new list\n",
    "fruits = ['apple', 'orange', 'grape', 'banana']\n",
    "\n",
    "#We are going to define a new list called pluralfruits.  \n",
    "#Right now, it's empty, but we still need to define it so that when we try to add things to it, it's there.\n",
    "pluralfruits = [] #empty list\n",
    "\n",
    "for fruit in fruits:\n",
    "    pluralfruit = fruit + 's' #make it plural\n",
    "    pluralfruits.append(pluralfruit) #add it to our new list\n",
    "    \n",
    "#This is now outside of the indentation block and therefore will only be run after the loop has completed.\n",
    "print(pluralfruits)\n",
    "\n",
    "#What would happen if we put the print statement inside the indentation block?"
   ]
  },
  {
   "cell_type": "code",
   "execution_count": 10,
   "metadata": {},
   "outputs": [
    {
     "name": "stdout",
     "output_type": "stream",
     "text": [
      "['apples', 'oranges', 'grapes', 'bananas', 'apples']\n",
      "['apples', 'oranges', 'grapes', 'bananas', 'apples', 'oranges']\n",
      "['apples', 'oranges', 'grapes', 'bananas', 'apples', 'oranges', 'grapes']\n",
      "['apples', 'oranges', 'grapes', 'bananas', 'apples', 'oranges', 'grapes', 'bananas']\n"
     ]
    }
   ],
   "source": [
    "for fruit in fruits:\n",
    "    pluralfruit = fruit + 's' #make it plural\n",
    "    pluralfruits.append(pluralfruit) #add it to our new list\n",
    "    print(pluralfruits)"
   ]
  },
  {
   "cell_type": "markdown",
   "metadata": {},
   "source": [
    "### Conditional statements\n",
    "\n",
    "So far, we've treated every iteration of the loop equally.  That is, we've performed our actions on every item.  But what if we want to evaluate the item, then based on that evaluation, decide what to do next?  This is where conditional statements come in.  The most common conditional statement is an **if** statement.  It's exactly what it sounds like.  You are asking *if* the item meets some condition.  If statements are often paired with **else** statements.  *Else* statements define what to do in the case the *if* condition is not met.\n",
    "\n",
    "Loops can therefore have this common structure:\n",
    "\n",
    "    for *item* in *iterable*:\n",
    "        if condition is met:\n",
    "            do this thing\n",
    "        else:\n",
    "            do this other thing\n",
    "            \n",
    "Multiple conditions can be presented in sequence.  This is commonly done by combining *else* and *if* statements into a single statement called *elif* (else-if). This will now look like this:\n",
    "\n",
    "    for *item* in *iterable*:\n",
    "        if condition1 is met:\n",
    "            do action1\n",
    "        elif condition2 is met:\n",
    "            do action2\n",
    "        else:\n",
    "            do action3\n",
    "            \n",
    "            \n",
    "Here, condition1 is first evaluated. If it is satisfied, action1 is performed and that's it.  We move on to the next iteration of the loop.  If it is not satisfied, we slip to the *elif* statement (remember it means else-if).  This is asking, given that condition1 is not met, is condition2 met?  If so, action2 is performed, and we move to the next iteration.  If neither condition1 nor condition2 are met, we slip to the *else* statement.  Action3 is performed and the iteration continues.\n",
    "\n",
    "> **Important note**:  Conditional statements of equality are performed using the '==' operator.  '==' is asking if two values are equal.  Importantly, this is not '='.  Remember that '=' is used to assign variables.  The inverse of '==' is '!='.  '==' evaluates to True if the two items are equal.  \"!=' evaluates to True if the two items are not equal."
   ]
  },
  {
   "cell_type": "code",
   "execution_count": 11,
   "metadata": {},
   "outputs": [
    {
     "name": "stdout",
     "output_type": "stream",
     "text": [
      "False\n",
      "True\n"
     ]
    }
   ],
   "source": [
    "a = 2\n",
    "b = 3\n",
    "\n",
    "print(a == b)\n",
    "print(a != b)"
   ]
  },
  {
   "cell_type": "code",
   "execution_count": 12,
   "metadata": {},
   "outputs": [
    {
     "name": "stdout",
     "output_type": "stream",
     "text": [
      "I love apples!!\n",
      "I love oranges!!\n",
      "I love grapes!!\n",
      "I hate bananas!!\n"
     ]
    }
   ],
   "source": [
    "fruits = ['apples', 'oranges', 'grapes', 'bananas']\n",
    "\n",
    "#Bananas are disgusting and we hate them\n",
    "for fruit in fruits:\n",
    "    if fruit == 'bananas':\n",
    "        print('I hate ' + fruit + '!!')\n",
    "    else:\n",
    "        print('I love ' + fruit + '!!')"
   ]
  },
  {
   "cell_type": "markdown",
   "metadata": {},
   "source": [
    "Conditional statements can also be chained together with <font color = 'red'>and</font> and <font color = 'red'>or</font>.  They work exactly how you would expect them to, provided you speak English."
   ]
  },
  {
   "cell_type": "code",
   "execution_count": 13,
   "metadata": {},
   "outputs": [
    {
     "name": "stdout",
     "output_type": "stream",
     "text": [
      "I love apples!!\n",
      "I love oranges!!\n",
      "I love grapes!!\n",
      "I hate bananas!!\n",
      "Hey, bozo, zucchinis are not fruits.\n"
     ]
    }
   ],
   "source": [
    "fruits = ['apples', 'oranges', 'grapes', 'bananas', 'zucchinis']\n",
    "\n",
    "#Bananas are still disgusting, but we also have a nonfruit\n",
    "for fruit in fruits:\n",
    "    #Is this an apple, orange or grape?\n",
    "    if fruit == 'apples' or fruit == 'oranges' or fruit == 'grapes':\n",
    "        print('I love ' + fruit + '!!')\n",
    "    #If not, is it a banana?\n",
    "    elif fruit == 'bananas':\n",
    "        print('I hate ' + fruit + '!!')\n",
    "    #If neither of the two above conditions are met\n",
    "    else:\n",
    "        print('Hey, bozo, ' + fruit + ' are not fruits.')"
   ]
  },
  {
   "cell_type": "code",
   "execution_count": 17,
   "metadata": {},
   "outputs": [
    {
     "name": "stdout",
     "output_type": "stream",
     "text": [
      "I love apples!!\n",
      "I love oranges!!\n",
      "I love grapes!!\n",
      "I hate bananas!!\n",
      "Hey, bozo, zucchinis are not fruits.\n"
     ]
    }
   ],
   "source": [
    "#Same question but organized in a slightly different way\n",
    "\n",
    "deliciousfruits = ['apples', 'oranges', 'grapes']\n",
    "disgustingfruits = ['bananas']\n",
    "peanutbutterpresent = []\n",
    "\n",
    "fruits = ['apples', 'oranges', 'grapes', 'bananas', 'zucchinis', 45]\n",
    "\n",
    "for fruit in fruits:\n",
    "    if type(fruit) == str:\n",
    "        if fruit in deliciousfruits:\n",
    "            print('I love ' + fruit + '!!')\n",
    "        elif fruit in disgustingfruits and not peanutbutterpresent:\n",
    "            print('I hate ' + fruit + '!!')\n",
    "        elif fruit in disgustingfruits and peanutbutterpresent:\n",
    "            print('OK, I\\ll have bananas this one time.')\n",
    "        else:\n",
    "            print('Hey, bozo, ' + fruit + ' are not fruits.')"
   ]
  },
  {
   "cell_type": "markdown",
   "metadata": {},
   "source": [
    "### Looping through dictionaries\n",
    "\n",
    "We can loop through any iterable.  So far, we've looped through lists, but we can also loop through other iterables like dictionaries and even strings!"
   ]
  },
  {
   "cell_type": "code",
   "execution_count": 18,
   "metadata": {},
   "outputs": [
    {
     "name": "stdout",
     "output_type": "stream",
     "text": [
      "['name', 'floor', 'fav_things', 'has_beard']\n",
      "['Srinivas', 9, ['uracil', '2primehydroxyls', 'introns'], True]\n"
     ]
    }
   ],
   "source": [
    "#Our dictionary\n",
    "instructor = {'name': 'Srinivas', 'floor': 9, 'fav_things': ['uracil', '2primehydroxyls', 'introns'], 'has_beard': True}\n",
    "\n",
    "#Get a list of all keys in the dictionary\n",
    "#Equivalent to list(instructor.keys())\n",
    "instructorkeys = [] #empty list placeholder for the new list to be in\n",
    "for k in instructor:\n",
    "    instructorkeys.append(k)\n",
    "    \n",
    "#Get a list of all values in the dictionary\n",
    "#Equivalent to list(instructor.values())\n",
    "instructorvalues = [] #empty list\n",
    "for k in instructor:\n",
    "    instructorvalue = instructor.get(k)\n",
    "    instructorvalues.append(instructorvalue)\n",
    "    \n",
    "print(instructorkeys)\n",
    "print(instructorvalues)"
   ]
  },
  {
   "cell_type": "code",
   "execution_count": 33,
   "metadata": {},
   "outputs": [
    {
     "name": "stdout",
     "output_type": "stream",
     "text": [
      "O\n",
      "H\n",
      " \n",
      "W\n",
      "H\n",
      "A\n",
      "T\n",
      " \n",
      "A\n",
      " \n",
      "S\n",
      "T\n",
      "R\n",
      "I\n",
      "N\n",
      "G\n",
      " \n",
      "T\n",
      "H\n",
      "I\n",
      "S\n",
      " \n",
      "I\n",
      "S\n",
      "!\n"
     ]
    }
   ],
   "source": [
    "#Loop through a string\n",
    "\n",
    "string = 'OH WHAT A STRING THIS IS!'\n",
    "\n",
    "for x in string:\n",
    "    print(x)"
   ]
  },
  {
   "cell_type": "markdown",
   "metadata": {},
   "source": [
    "### Keeping track of indicies when looping\n",
    "\n",
    "Occasionally, you might like to keep track of the index of an item as you are going through an iterable.  This can be done with the **enumerate()** function.  enumerate() returns a tuple of the form (index, item) during every iteration."
   ]
  },
  {
   "cell_type": "code",
   "execution_count": 24,
   "metadata": {},
   "outputs": [
    {
     "name": "stdout",
     "output_type": "stream",
     "text": [
      "0 apples\n",
      "1 oranges\n",
      "2 grapes\n",
      "3 bananas\n",
      "4 zucchinis\n",
      "apples\n",
      "grapes\n",
      "zucchinis\n"
     ]
    }
   ],
   "source": [
    "fruits = ['apples', 'oranges', 'grapes', 'bananas', 'zucchinis']\n",
    "\n",
    "for index, fruit in enumerate(fruits):\n",
    "    print(index, fruit)\n",
    "    \n",
    "    \n",
    "#Get every other fruit, starting with the first one\n",
    "for (index, fruit) in enumerate(fruits):\n",
    "    if index %2 == 0:\n",
    "        print(fruit)"
   ]
  },
  {
   "cell_type": "markdown",
   "metadata": {},
   "source": [
    "### Nested loops.\n",
    "\n",
    "Loops can also be nested, allowing simulatneous actions on multiple iterables.  For example:\n",
    "\n",
    "    for item in iterable1:\n",
    "        for item2 in iterable2:\n",
    "            do something\n",
    "            \n",
    "Here, we will start with the first item in iterable1. Then, for every item in iterable2, we will do something.  Then we will move to the second item in iterable1.  Then, for every item in iterable2, we will do something.  And so on.\n",
    "\n",
    "If it helps, the number of times we will \"do something\" here is the number of items in iterable1 times the number of items in iterable2."
   ]
  },
  {
   "cell_type": "code",
   "execution_count": 25,
   "metadata": {},
   "outputs": [
    {
     "name": "stdout",
     "output_type": "stream",
     "text": [
      "I love big apples!!\n",
      "I love juicy apples!!\n",
      "I love delicious apples!!\n",
      "I love big oranges!!\n",
      "I love juicy oranges!!\n",
      "I love delicious oranges!!\n",
      "I love big grapes!!\n",
      "I love juicy grapes!!\n",
      "I love delicious grapes!!\n",
      "I love big bananas!!\n",
      "I love juicy bananas!!\n",
      "I love delicious bananas!!\n"
     ]
    }
   ],
   "source": [
    "adjectives = ['big', 'juicy', 'delicious']\n",
    "fruits = ['apples', 'oranges', 'grapes', 'bananas']\n",
    "\n",
    "#Bananas are OK again\n",
    "for fruit in fruits:\n",
    "    for adj in adjectives:\n",
    "        print('I love ' + adj + ' ' + fruit + '!!')"
   ]
  },
  {
   "cell_type": "markdown",
   "metadata": {},
   "source": [
    "### Control statements\n",
    "\n",
    "Python has the loop control statements <font color = 'red'>continue</font>, <font color = 'red'>break</font>, and <font color = 'red'>pass</font>.\n",
    "\n",
    "- **continue** statements tell Python to proceed with the next iteration of the loop\n",
    "- **break** statements stop iteration of the loop and exit the loop\n",
    "- **pass** statements are placeholders and don't cause anything to happen"
   ]
  },
  {
   "cell_type": "code",
   "execution_count": 28,
   "metadata": {},
   "outputs": [
    {
     "name": "stdout",
     "output_type": "stream",
     "text": [
      "I love grapes!!\n"
     ]
    }
   ],
   "source": [
    "fruits = ['apples', 'oranges', 'grapes', 'bananas']\n",
    "\n",
    "#Grapes are really good\n",
    "for fruit in fruits:\n",
    "    if fruit != 'grapes': #if this fruit is not grapes, continue with the next iteration\n",
    "        continue\n",
    "    else:\n",
    "        print('I love ' + fruit + '!!')"
   ]
  },
  {
   "cell_type": "code",
   "execution_count": 29,
   "metadata": {},
   "outputs": [
    {
     "name": "stdout",
     "output_type": "stream",
     "text": [
      "apples\n",
      "oranges\n"
     ]
    }
   ],
   "source": [
    "fruits = ['apples', 'oranges', 'grapes', 'bananas']\n",
    "\n",
    "for fruit in fruits:\n",
    "    if fruit == 'grapes':\n",
    "        break\n",
    "    else:\n",
    "        print(fruit)"
   ]
  },
  {
   "cell_type": "markdown",
   "metadata": {},
   "source": [
    "### While loops\n",
    "\n",
    "While loops are similar to for loops, except that they continue to iterate *while* a condition is met.\n",
    "\n",
    "    while conditionismet:\n",
    "        perform function\n",
    "       \n",
    "This loop will continue to run until the condition is no longer met."
   ]
  },
  {
   "cell_type": "code",
   "execution_count": 32,
   "metadata": {},
   "outputs": [
    {
     "name": "stdout",
     "output_type": "stream",
     "text": [
      "i is equal to 1\n",
      "i is equal to 2\n",
      "i is equal to 3\n",
      "i is equal to 4\n",
      "i is equal to 5\n",
      "i is equal to 6\n",
      "i is equal to 7\n",
      "i is equal to 8\n",
      "i is equal to 9\n",
      "i is equal to 10\n",
      "Whoops! i is no longer less than 10.\n"
     ]
    }
   ],
   "source": [
    "i = 0\n",
    "\n",
    "while i < 10: #run this loop until i is greater than or equal to 10\n",
    "    i += 1 #add 1 to i, move on to the next iteration of the loop.\n",
    "    print('i is equal to ' + str(i)) #i must be formatted to str.  You cannot add strings and integers together.\n",
    "    \n",
    "#The condition is no longer satisfied, so we move on past the loop.\n",
    "print('Whoops! i is no longer less than 10.')"
   ]
  },
  {
   "cell_type": "markdown",
   "metadata": {},
   "source": [
    "> **Importantly**, it is possible to create while loops in which the condition is *always* met.  This means the loop will run forever and is called an *infinite loop*.  These can obviously cause problems.  The code will not progress beyond the infinite loop."
   ]
  },
  {
   "cell_type": "code",
   "execution_count": null,
   "metadata": {},
   "outputs": [],
   "source": [
    "#PRESS INTERRUPT KERNEL AFTER RUNNING THIS BLOCK (IT'S THE ONE THAT LOOKS LIKE A SQUARE.)\n",
    "\n",
    "i = 1\n",
    "\n",
    "#while i > 0: #this will always be true\n",
    "    print('i is equal to ' + str(i)) #i must be formatted to str.  You cannot add strings and integers together.\n",
    "    i += 1\n",
    "    \n",
    "#This line will never run.\n",
    "print('DNA is more interesting than RNA.')"
   ]
  },
  {
   "cell_type": "markdown",
   "metadata": {},
   "source": [
    "## List comprehensions\n",
    "\n",
    "List comprehension are concise ways to create lists or perform actions on every item contained within a list.  They can be approximated with loops (particularly for loops), but are quick, concise, and well...cool.  The syntax takes a bit of getting used to, but they are worth the effort."
   ]
  },
  {
   "cell_type": "code",
   "execution_count": 33,
   "metadata": {},
   "outputs": [
    {
     "name": "stdout",
     "output_type": "stream",
     "text": [
      "['apples', 'oranges', 'grapes', 'bananas']\n",
      "['apples', 'oranges', 'grapes', 'bananas']\n"
     ]
    }
   ],
   "source": [
    "fruits = ['apple', 'orange', 'grape', 'banana']\n",
    "\n",
    "#Make this list plural using a for loop\n",
    "pluralfruits = []\n",
    "\n",
    "for fruit in fruits:\n",
    "    pluralfruit = fruit + 's'\n",
    "    pluralfruits.append(pluralfruit)\n",
    "    \n",
    "print(pluralfruits)\n",
    "\n",
    "#OK, that's cool, but this is cooler with a list comprehension\n",
    "\n",
    "pluralfruits_lc = [fruit + 's' for fruit in fruits] #the syntax essentially reads like an English sentence\n",
    "\n",
    "print(pluralfruits_lc)\n"
   ]
  },
  {
   "cell_type": "code",
   "execution_count": 17,
   "metadata": {},
   "outputs": [
    {
     "name": "stdout",
     "output_type": "stream",
     "text": [
      "['bananas']\n",
      "['bananas']\n"
     ]
    }
   ],
   "source": [
    "#Let's do another one!  This time with a conditional statement!\n",
    "fruits = ['apple', 'orange', 'grape', 'banana']\n",
    "\n",
    "#Only make the fruit plural if it starts with 'b'\n",
    "pluralfruits = []\n",
    "\n",
    "for fruit in fruits:\n",
    "    if fruit.startswith('b'):\n",
    "        pluralfruit = fruit + 's'\n",
    "        pluralfruits.append(pluralfruit)\n",
    "    \n",
    "print(pluralfruits)\n",
    "\n",
    "#Booooring.  Use a list comprehension.\n",
    "pluralfruits_lc = [fruit + 's' for fruit in fruits if fruit.startswith('b')]\n",
    "\n",
    "print(pluralfruits_lc)\n"
   ]
  },
  {
   "cell_type": "code",
   "execution_count": 35,
   "metadata": {},
   "outputs": [
    {
     "name": "stdout",
     "output_type": "stream",
     "text": [
      "['apple', 'orange', 'grape', 'bananas']\n",
      "['apple', 'orange', 'grape', 'bananas']\n"
     ]
    }
   ],
   "source": [
    "#One more time, this time with and if statement and an else statement\n",
    "\n",
    "fruits = ['apple', 'orange', 'grape', 'banana']\n",
    "adj = ['big', 'juicy', 'delicious']\n",
    "\n",
    "#Only make the fruit plural if it starts with 'b', otherwise keep them in their singular form\n",
    "pluralfruits = []\n",
    "\n",
    "for fruit in fruits:\n",
    "    if fruit.startswith('b'):\n",
    "        pluralfruit = fruit + 's'\n",
    "    else:\n",
    "        pluralfruit = fruit\n",
    "    pluralfruits.append(pluralfruit)\n",
    "    \n",
    "print(pluralfruits)\n",
    "\n",
    "#With a list comprehension. ORDER CHANGES with an else statement (if...else...for instead of for...if)\n",
    "pluralfruits_lc = [fruit + 's' if fruit.startswith('b') else fruit for fruit in fruits]\n",
    "#pluralfruits_lc = [fruit + 's' + a if fruit.startswith('b') else fruit for fruit in fruits for a in adj]\n",
    "\n",
    "print(pluralfruits_lc)"
   ]
  },
  {
   "cell_type": "markdown",
   "metadata": {},
   "source": [
    "\n",
    "## <font color = 'red'> Exercises </font>\n",
    "\n",
    "There are four exercises below, each with an empty code block after them.  Fill the code blocks with code to answer each exercise."
   ]
  },
  {
   "cell_type": "markdown",
   "metadata": {},
   "source": [
    "#### Exercise 1\n",
    "\n",
    "Write a loop to create a list that contains all of the even integers between 1 and 20.\n",
    "\n",
    "Here's some pseudocode to help you out.\n",
    "\n",
    "- Define an empty list.\n",
    "- Using a while loop and an if statement, add integers to the list.\n",
    "- Don't forget about the % operator!  It could be useful!\n",
    "\n",
    "> Note: do not use the range() function for this."
   ]
  },
  {
   "cell_type": "code",
   "execution_count": 7,
   "metadata": {},
   "outputs": [
    {
     "name": "stdout",
     "output_type": "stream",
     "text": [
      "[2, 4, 6, 8, 10, 12, 14, 16, 18, 20]\n"
     ]
    }
   ],
   "source": [
    "evens = []\n",
    "i=0\n",
    "while i<20:\n",
    "    i=i+1\n",
    "    if i%2==0:\n",
    "        evens.append(i)\n",
    "    else:\n",
    "        pass\n",
    "print(evens)\n",
    "\n",
    "#the goal is to make the list [2, 4, 6, 8, 10, 12, 14, 16, 18, 20]"
   ]
  },
  {
   "cell_type": "markdown",
   "metadata": {},
   "source": [
    "#### Exercise 2\n",
    "\n",
    "Write a for loop that creates a dictionary where the keys are the integers between 1 and 10 and the values are the squares of the keys.\n",
    "\n",
    "Here's some pseudocode.\n",
    "\n",
    "- Define an empty dictionary.\n",
    "- Create a list of the integers between 1 and 10 using range(1, 11)\n",
    "- Write a for loop that iterates through the list of integers, add them as keys and their squares as values"
   ]
  },
  {
   "cell_type": "code",
   "execution_count": 8,
   "metadata": {},
   "outputs": [
    {
     "name": "stdout",
     "output_type": "stream",
     "text": [
      "{1: 1, 2: 4, 3: 9, 4: 16, 5: 25, 6: 36, 7: 49, 8: 64, 9: 81, 10: 100}\n"
     ]
    }
   ],
   "source": [
    "nary = {}\n",
    "\n",
    "ints = range(1, 11)\n",
    "\n",
    "for i in ints:\n",
    "    nary[i]=i**2\n",
    "\n",
    "print(nary)\n",
    "    \n",
    "\n",
    "\n",
    "#goal, although the keys may be in any order = {1 : 1, 2 : 4, 3 : 9, 4 : 16, 5 : 25, 6 : 36, 7 : 49, 8 : 64, 9 : 81, 10 : 100} "
   ]
  },
  {
   "cell_type": "markdown",
   "metadata": {},
   "source": [
    "#### Exercise 3\n",
    "\n",
    "This one is more advanced.\n",
    "\n",
    "Write a loop that produces a list of all the prime integers between 0 and 100.\n",
    "\n",
    "Here's some pseduocode.\n",
    "\n",
    "- Make a list of all the integers between 1 and 100.\n",
    "- Iterate through the list, asking if dividing this integer by any integer in the list smaller than it returns a remainder of 0. You might need a nested list.\n",
    "- If no, it's prime."
   ]
  },
  {
   "cell_type": "code",
   "execution_count": null,
   "metadata": {},
   "outputs": [],
   "source": []
  },
  {
   "cell_type": "code",
   "execution_count": 14,
   "metadata": {},
   "outputs": [
    {
     "name": "stdout",
     "output_type": "stream",
     "text": [
      "[2, 3, 5, 7, 11, 13, 17, 19, 23, 29, 31, 37, 41, 43, 47, 53, 59, 61, 67, 71, 73, 79, 83, 89, 97]\n"
     ]
    }
   ],
   "source": [
    "#All composite AND prime integers are divisible by 1 with remainder 0, so need to exclude this case? yes\n",
    "\n",
    "primes = []\n",
    "intz = range(1,100)\n",
    "for n in intz:\n",
    "    if n>1:\n",
    "        for d in range(2,n):\n",
    "            if n%d == 0: #remember there exist j less than i such that remainder is nonzero but i is still composite (divisible by some j)\n",
    "                break\n",
    "            else:\n",
    "                pass\n",
    "        else:\n",
    "            primes.append(n)\n",
    "print(primes)\n",
    "\n",
    "\n",
    "\n",
    "\n",
    "\n",
    "\n"
   ]
  },
  {
   "cell_type": "markdown",
   "metadata": {},
   "source": [
    "**Exercise 4**\n",
    "\n",
    "Kmers are short strings of nucleic acid sequence of length k.  For example, the sequence ACUGAUCAUG contains the 6nt-long kmers (or 6mers) ACUGAU, CUGAUC, UGAUCA, GAUCAU, and AUCAUG.  Since many RNA-binding proteins recognize sequences of about this length, this represents the list of possible binding sites for RBPs within this sequence.  You might imagine, then, that being able to take a sequence and count the abundance of all kmers within could be a useful thing to do.  So let's do it.\n",
    "\n",
    "Write a chunk of code that stores the number of time each 6mer is observed in the ~1.5 kb sequence below:\n",
    "\n",
    "TGAGTTCCAGGACAGCCAAGAGTCAGAACTAAATAAGAGACCCTGTCTCACAAAAATGCAAACAAGAGATTCAACTTCAAATCATACACTAAGTTCATCCGCAAATCAACTTACTTACAACTGATAAAAATACACTGCTCTAGAATTCAGGACACAGGCATTCTCAATTTGCTACCAAGATGCTGCTTAACTGCAGACACATCATTTCTCTTCCAGAAAATACAGTCAGCTTGACATAAAAGTAGTCTTTTTTTTTTAAGATTAATTTATTATTATATCTAAGTATACTGTTGCTGTCTTCAGACACACCAGAAGAGGGCACCAGATCCCATTATAGATGGTTGTGAGCCACCATGTGGTTGCTGGGAGTTGAACTCAGGACCTCTGGAAGAGCAGTCAGGGCTCTTAACCGCTGAGCTTTCAAGTTCTAGCCTGTCTTATTAAATGTAATAATTAGTTGTAGGATCCTTTAACAAATTATTTGAAACACTATCAGGCATAGTGTTCCCTGTAAATAAAGGGTAAAACTACTGAGACTAATGTTCTCATAAGTAAGTTAAAACAAAGCAAAACACAGTTGTATTAAAAGCATTTTCACTTAAGTTTAAAAAGTAACAAATTTTTAATATGGAAGATTTTTAGAAGAGCATATATATATATATATATATATATATATATATATATATATATATATATATTCTGTTTTGACAGCAGGTCAGGTTCTATTCTAAGAAACTAGATAGGCAGAGATCCGCAGAGAGGTTGGCTCACTGACTGTTGGGTGTTGGGGATGTAATTAACTGGTAGAACACTTGCCCAGTGCGCACAGAGCCCTGGATTTAATCTGCAGCACTCAAAACTAGGGCAGAGATGTGGTAGTCAACCCACTTTCCTGGCACCCACACAGTGGCTCCAACCATCCCTAACCCCAGTTCCAGGGGACTCCACACCCTCCTGTGGCCTCAAAGCACTGCATGCATGTGGTGTACATTCTGGCAGACAAGACACTTCCATATTAAAAAGTAAGATAATTTCTTAAACCCAAGCACTACCTGATGCGAGGGCGTCTCTGTGGACTCGCTGCTGCTGCTGCTACTGCTGCTGCTGCCGCCGCTGCACATCTCCCTCAGCTCACACAGACCCAGGCTCGGATCAAAGGACAGGGACCTGCGGCGCTTCCGGTGCCGCTCCCCAGGTAGCTCATCTGTGTTCTCTTCTATAGATTAAAGGACATGGGGTTAAAACTCCCTGTACTGGGACTGATTTGAGATTGAAATATCTTCAGCACCTATTTGCAACAAAATTTAATTTCAATTATATTAAACAGAGAAGTGAACCATTAATGTTTCAAAAGTCAGCAGTGTTTCATTGGATCTGTTCAGCTACACATAAGCTCTACTTCTAAGCTTGCAACCTTCTTTGTGGACGTTACCTCCACAAGTTACTCATTTAATCCTCCTAGTGCTTTTACTGATTCAACAGTACACGATTTCCCCAT\n",
    "\n",
    "Here's some pseudocode.\n",
    "\n",
    "- For each position, i, in the sequence, a kmer is defined as the string from position i to position i + 6\n",
    "- Loop through all possible i values, deriving the kmer that corresponds to that i value (perhaps by slicing the sequence)\n",
    "- Store the occurence of that kmer in a dictionary of the form {kmer : number of observations}"
   ]
  },
  {
   "cell_type": "code",
   "execution_count": 21,
   "metadata": {},
   "outputs": [
    {
     "name": "stdout",
     "output_type": "stream",
     "text": [
      "{'TGAGTT': 1, 'GAGTTC': 1, 'AGTTCC': 2, 'GTTCCA': 2, 'TTCCAG': 3, 'TCCAGG': 2, 'CCAGGA': 1, 'CAGGAC': 3, 'AGGACA': 4, 'GGACAG': 2, 'GACAGC': 2, 'ACAGCC': 1, 'CAGCCA': 1, 'AGCCAA': 1, 'GCCAAG': 1, 'CCAAGA': 2, 'CAAGAG': 2, 'AAGAGT': 1, 'AGAGTC': 1, 'GAGTCA': 1, 'AGTCAG': 4, 'GTCAGA': 1, 'TCAGAA': 1, 'CAGAAC': 1, 'AGAACT': 1, 'GAACTA': 1, 'AACTAA': 1, 'ACTAAA': 1, 'CTAAAT': 1, 'TAAATA': 2, 'AAATAA': 2, 'AATAAG': 1, 'ATAAGA': 1, 'TAAGAG': 1, 'AAGAGA': 2, 'AGAGAC': 1, 'GAGACC': 1, 'AGACCC': 2, 'GACCCT': 1, 'ACCCTG': 1, 'CCCTGT': 3, 'CCTGTC': 2, 'CTGTCT': 3, 'TGTCTC': 1, 'GTCTCA': 1, 'TCTCAC': 1, 'CTCACA': 2, 'TCACAA': 1, 'CACAAA': 1, 'ACAAAA': 2, 'CAAAAA': 1, 'AAAAAT': 2, 'AAAATG': 1, 'AAATGC': 1, 'AATGCA': 1, 'ATGCAA': 1, 'TGCAAA': 1, 'GCAAAC': 1, 'CAAACA': 1, 'AAACAA': 2, 'AACAAG': 1, 'ACAAGA': 2, 'AGAGAT': 3, 'GAGATT': 2, 'AGATTC': 1, 'GATTCA': 2, 'ATTCAA': 2, 'TTCAAC': 2, 'TCAACT': 2, 'CAACTT': 2, 'AACTTC': 1, 'ACTTCA': 1, 'CTTCAA': 1, 'TTCAAA': 2, 'TCAAAT': 1, 'CAAATC': 2, 'AAATCA': 2, 'AATCAT': 1, 'ATCATA': 1, 'TCATAC': 1, 'CATACA': 1, 'ATACAC': 2, 'TACACT': 2, 'ACACTA': 2, 'CACTAA': 1, 'ACTAAG': 1, 'CTAAGT': 2, 'TAAGTT': 3, 'AAGTTC': 2, 'AGTTCA': 1, 'GTTCAT': 1, 'TTCATC': 1, 'TCATCC': 1, 'CATCCG': 1, 'ATCCGC': 2, 'TCCGCA': 2, 'CCGCAA': 1, 'CGCAAA': 1, 'GCAAAT': 1, 'AATCAA': 1, 'ATCAAC': 1, 'AACTTA': 1, 'ACTTAC': 2, 'CTTACT': 1, 'TTACTT': 1, 'TACTTA': 1, 'CTTACA': 1, 'TTACAA': 1, 'TACAAC': 1, 'ACAACT': 1, 'CAACTG': 1, 'AACTGA': 1, 'ACTGAT': 3, 'CTGATA': 1, 'TGATAA': 1, 'GATAAA': 1, 'ATAAAA': 2, 'TAAAAA': 3, 'AAAATA': 2, 'AAATAC': 2, 'AATACA': 2, 'ACACTG': 1, 'CACTGC': 2, 'ACTGCT': 2, 'CTGCTC': 1, 'TGCTCT': 1, 'GCTCTA': 2, 'CTCTAG': 1, 'TCTAGA': 1, 'CTAGAA': 1, 'TAGAAT': 1, 'AGAATT': 1, 'GAATTC': 1, 'AATTCA': 1, 'ATTCAG': 1, 'TTCAGG': 1, 'TCAGGA': 2, 'GGACAC': 1, 'GACACA': 3, 'ACACAG': 4, 'CACAGG': 1, 'ACAGGC': 1, 'CAGGCA': 2, 'AGGCAT': 2, 'GGCATT': 1, 'GCATTC': 1, 'CATTCT': 2, 'ATTCTC': 1, 'TTCTCA': 2, 'TCTCAA': 1, 'CTCAAT': 1, 'TCAATT': 2, 'CAATTT': 1, 'AATTTG': 1, 'ATTTGC': 2, 'TTTGCT': 1, 'TTGCTA': 1, 'TGCTAC': 2, 'GCTACC': 1, 'CTACCA': 1, 'TACCAA': 1, 'ACCAAG': 1, 'CAAGAT': 1, 'AAGATG': 1, 'AGATGC': 1, 'GATGCT': 1, 'ATGCTG': 1, 'TGCTGC': 7, 'GCTGCT': 7, 'CTGCTT': 1, 'TGCTTA': 1, 'GCTTAA': 1, 'CTTAAC': 2, 'TTAACT': 2, 'TAACTG': 2, 'AACTGC': 1, 'ACTGCA': 2, 'CTGCAG': 2, 'TGCAGA': 1, 'GCAGAC': 2, 'CAGACA': 3, 'AGACAC': 3, 'ACACAT': 2, 'CACATC': 2, 'ACATCA': 1, 'CATCAT': 1, 'ATCATT': 1, 'TCATTT': 2, 'CATTTC': 1, 'ATTTCT': 2, 'TTTCTC': 1, 'TTCTCT': 2, 'TCTCTT': 2, 'CTCTTC': 2, 'TCTTCC': 1, 'CTTCCA': 2, 'TCCAGA': 1, 'CCAGAA': 2, 'CAGAAA': 1, 'AGAAAA': 1, 'GAAAAT': 1, 'ATACAG': 1, 'TACAGT': 1, 'ACAGTC': 1, 'CAGTCA': 2, 'GTCAGC': 2, 'TCAGCT': 3, 'CAGCTT': 1, 'AGCTTG': 2, 'GCTTGA': 1, 'CTTGAC': 1, 'TTGACA': 2, 'TGACAT': 1, 'GACATA': 1, 'ACATAA': 2, 'CATAAA': 1, 'TAAAAG': 2, 'AAAAGT': 4, 'AAAGTA': 3, 'AAGTAG': 1, 'AGTAGT': 1, 'GTAGTC': 2, 'TAGTCT': 1, 'AGTCTT': 1, 'GTCTTT': 1, 'TCTTTT': 1, 'CTTTTT': 1, 'TTTTTT': 5, 'TTTTTA': 3, 'TTTTAA': 2, 'TTTAAG': 1, 'TTAAGA': 1, 'TAAGAT': 2, 'AAGATT': 2, 'AGATTA': 2, 'GATTAA': 2, 'ATTAAT': 2, 'TTAATT': 2, 'TAATTT': 3, 'AATTTA': 2, 'ATTTAT': 1, 'TTTATT': 1, 'TTATTA': 3, 'TATTAT': 2, 'ATTATT': 2, 'ATTATA': 3, 'TTATAT': 2, 'TATATC': 1, 'ATATCT': 2, 'TATCTA': 1, 'ATCTAA': 1, 'TCTAAG': 3, 'TAAGTA': 2, 'AAGTAT': 1, 'AGTATA': 1, 'GTATAC': 1, 'TATACT': 1, 'ATACTG': 1, 'TACTGT': 1, 'ACTGTT': 2, 'CTGTTG': 2, 'TGTTGC': 1, 'GTTGCT': 2, 'TTGCTG': 2, 'TGCTGT': 1, 'GCTGTC': 1, 'TGTCTT': 2, 'GTCTTC': 1, 'TCTTCA': 2, 'CTTCAG': 2, 'TTCAGA': 1, 'TCAGAC': 1, 'ACACAC': 1, 'CACACC': 2, 'ACACCA': 1, 'CACCAG': 2, 'ACCAGA': 2, 'CAGAAG': 1, 'AGAAGA': 2, 'GAAGAG': 3, 'AAGAGG': 1, 'AGAGGG': 1, 'GAGGGC': 2, 'AGGGCA': 2, 'GGGCAC': 1, 'GGCACC': 2, 'GCACCA': 1, 'CCAGAT': 1, 'CAGATC': 1, 'AGATCC': 2, 'GATCCC': 1, 'ATCCCA': 1, 'TCCCAT': 1, 'CCCATT': 1, 'CCATTA': 2, 'CATTAT': 1, 'TTATAG': 1, 'TATAGA': 2, 'ATAGAT': 2, 'TAGATG': 1, 'AGATGG': 1, 'GATGGT': 1, 'ATGGTT': 1, 'TGGTTG': 2, 'GGTTGT': 1, 'GTTGTG': 1, 'TTGTGA': 1, 'TGTGAG': 1, 'GTGAGC': 1, 'TGAGCC': 1, 'GAGCCA': 1, 'AGCCAC': 1, 'GCCACC': 1, 'CCACCA': 1, 'CACCAT': 1, 'ACCATG': 1, 'CCATGT': 1, 'CATGTG': 2, 'ATGTGG': 3, 'TGTGGT': 3, 'GTGGTT': 1, 'GGTTGC': 1, 'TGCTGG': 1, 'GCTGGG': 1, 'CTGGGA': 2, 'TGGGAG': 1, 'GGGAGT': 1, 'GGAGTT': 1, 'GAGTTG': 1, 'AGTTGA': 1, 'GTTGAA': 1, 'TTGAAC': 1, 'TGAACT': 1, 'GAACTC': 1, 'AACTCA': 1, 'ACTCAG': 1, 'CTCAGG': 1, 'AGGACC': 1, 'GGACCT': 2, 'GACCTC': 1, 'ACCTCT': 1, 'CCTCTG': 1, 'CTCTGG': 1, 'TCTGGA': 1, 'CTGGAA': 1, 'TGGAAG': 2, 'GGAAGA': 2, 'AAGAGC': 2, 'AGAGCA': 2, 'GAGCAG': 1, 'AGCAGT': 2, 'GCAGTC': 1, 'GTCAGG': 2, 'TCAGGG': 1, 'CAGGGC': 1, 'AGGGCT': 1, 'GGGCTC': 1, 'GGCTCT': 1, 'GCTCTT': 1, 'CTCTTA': 1, 'TCTTAA': 2, 'TTAACC': 1, 'TAACCG': 1, 'AACCGC': 1, 'ACCGCT': 1, 'CCGCTG': 2, 'CGCTGA': 1, 'GCTGAG': 1, 'CTGAGC': 1, 'TGAGCT': 1, 'GAGCTT': 1, 'AGCTTT': 1, 'GCTTTC': 1, 'CTTTCA': 1, 'TTTCAA': 3, 'TTCAAG': 1, 'TCAAGT': 1, 'CAAGTT': 2, 'AGTTCT': 1, 'GTTCTA': 2, 'TTCTAG': 1, 'TCTAGC': 1, 'CTAGCC': 1, 'TAGCCT': 1, 'AGCCTG': 1, 'GCCTGT': 1, 'GTCTTA': 1, 'TCTTAT': 1, 'CTTATT': 1, 'TATTAA': 4, 'ATTAAA': 5, 'TTAAAT': 1, 'TAAATG': 1, 'AAATGT': 1, 'AATGTA': 1, 'ATGTAA': 2, 'TGTAAT': 2, 'GTAATA': 1, 'TAATAA': 1, 'AATAAT': 1, 'ATAATT': 2, 'TAATTA': 2, 'AATTAG': 1, 'ATTAGT': 1, 'TTAGTT': 1, 'TAGTTG': 1, 'AGTTGT': 2, 'GTTGTA': 2, 'TTGTAG': 1, 'TGTAGG': 1, 'GTAGGA': 1, 'TAGGAT': 1, 'AGGATC': 1, 'GGATCC': 1, 'GATCCT': 1, 'ATCCTT': 1, 'TCCTTT': 1, 'CCTTTA': 1, 'CTTTAA': 1, 'TTTAAC': 1, 'TTAACA': 1, 'TAACAA': 2, 'AACAAA': 4, 'ACAAAT': 2, 'CAAATT': 2, 'AAATTA': 1, 'AATTAT': 2, 'TTATTT': 1, 'TATTTG': 2, 'ATTTGA': 2, 'TTTGAA': 1, 'TTGAAA': 2, 'TGAAAC': 1, 'GAAACA': 1, 'AAACAC': 2, 'AACACT': 2, 'CACTAT': 1, 'ACTATC': 1, 'CTATCA': 1, 'TATCAG': 1, 'ATCAGG': 1, 'TCAGGC': 1, 'GGCATA': 1, 'GCATAG': 1, 'CATAGT': 1, 'ATAGTG': 1, 'TAGTGT': 1, 'AGTGTT': 2, 'GTGTTC': 2, 'TGTTCC': 1, 'GTTCCC': 1, 'TTCCCT': 1, 'TCCCTG': 2, 'CCTGTA': 2, 'CTGTAA': 1, 'TGTAAA': 1, 'GTAAAT': 1, 'AATAAA': 1, 'ATAAAG': 1, 'TAAAGG': 2, 'AAAGGG': 1, 'AAGGGT': 1, 'AGGGTA': 1, 'GGGTAA': 1, 'GGTAAA': 1, 'GTAAAA': 1, 'TAAAAC': 3, 'AAAACT': 3, 'AAACTA': 3, 'AACTAC': 1, 'ACTACT': 1, 'CTACTG': 2, 'TACTGA': 2, 'ACTGAG': 1, 'CTGAGA': 1, 'TGAGAC': 1, 'GAGACT': 1, 'AGACTA': 1, 'GACTAA': 1, 'ACTAAT': 1, 'CTAATG': 1, 'TAATGT': 2, 'AATGTT': 2, 'ATGTTC': 1, 'TGTTCT': 2, 'GTTCTC': 2, 'TCTCAT': 1, 'CTCATA': 1, 'TCATAA': 1, 'CATAAG': 2, 'ATAAGT': 1, 'AAGTAA': 3, 'AGTAAG': 2, 'GTAAGT': 1, 'AAGTTA': 2, 'AGTTAA': 1, 'GTTAAA': 2, 'TTAAAA': 5, 'AAAACA': 2, 'ACAAAG': 1, 'CAAAGC': 2, 'AAAGCA': 3, 'AAGCAA': 1, 'AGCAAA': 1, 'GCAAAA': 1, 'CAAAAC': 2, 'AACACA': 1, 'CACAGT': 2, 'ACAGTT': 1, 'CAGTTG': 1, 'TTGTAT': 1, 'TGTATT': 1, 'GTATTA': 1, 'AAAAGC': 1, 'AAGCAT': 1, 'AGCATT': 1, 'GCATTT': 1, 'CATTTT': 1, 'ATTTTC': 1, 'TTTTCA': 1, 'TTTCAC': 1, 'TTCACT': 1, 'TCACTT': 1, 'CACTTA': 1, 'ACTTAA': 1, 'CTTAAG': 1, 'TTAAGT': 1, 'AAGTTT': 1, 'AGTTTA': 1, 'GTTTAA': 1, 'TTTAAA': 1, 'AAAAAG': 2, 'AGTAAC': 1, 'GTAACA': 1, 'AAATTT': 2, 'AATTTT': 1, 'ATTTTT': 2, 'TTTAAT': 4, 'TTAATA': 1, 'TAATAT': 1, 'AATATG': 1, 'ATATGG': 1, 'TATGGA': 1, 'ATGGAA': 1, 'GAAGAT': 1, 'AGATTT': 1, 'GATTTT': 1, 'TTTTAG': 1, 'TTTAGA': 1, 'TTAGAA': 1, 'TAGAAG': 1, 'GAGCAT': 1, 'AGCATA': 1, 'GCATAT': 1, 'CATATA': 1, 'ATATAT': 23, 'TATATA': 22, 'TATATT': 2, 'ATATTC': 1, 'TATTCT': 2, 'ATTCTG': 2, 'TTCTGT': 1, 'TCTGTT': 2, 'CTGTTT': 1, 'TGTTTT': 1, 'GTTTTG': 1, 'TTTTGA': 1, 'TTTGAC': 1, 'TGACAG': 1, 'ACAGCA': 1, 'CAGCAG': 2, 'AGCAGG': 1, 'GCAGGT': 1, 'CAGGTC': 1, 'AGGTCA': 1, 'GGTCAG': 1, 'TCAGGT': 1, 'CAGGTT': 1, 'AGGTTC': 1, 'GGTTCT': 1, 'TTCTAT': 2, 'TCTATT': 1, 'CTATTC': 1, 'ATTCTA': 1, 'TTCTAA': 2, 'CTAAGA': 1, 'TAAGAA': 1, 'AAGAAA': 1, 'AGAAAC': 1, 'GAAACT': 1, 'AACTAG': 2, 'ACTAGA': 1, 'CTAGAT': 1, 'TAGATA': 1, 'AGATAG': 1, 'GATAGG': 1, 'ATAGGC': 1, 'TAGGCA': 1, 'AGGCAG': 1, 'GGCAGA': 3, 'GCAGAG': 3, 'CAGAGA': 4, 'GAGATC': 1, 'GATCCG': 1, 'CCGCAG': 1, 'CGCAGA': 1, 'AGAGAG': 1, 'GAGAGG': 1, 'AGAGGT': 1, 'GAGGTT': 1, 'AGGTTG': 1, 'GGTTGG': 1, 'GTTGGC': 1, 'TTGGCT': 1, 'TGGCTC': 2, 'GGCTCA': 1, 'GCTCAC': 2, 'CTCACT': 1, 'TCACTG': 1, 'CACTGA': 1, 'ACTGAC': 1, 'CTGACT': 1, 'TGACTG': 1, 'GACTGT': 1, 'TGTTGG': 2, 'GTTGGG': 2, 'TTGGGT': 1, 'TGGGTG': 1, 'GGGTGT': 1, 'GGTGTT': 1, 'GTGTTG': 1, 'TTGGGG': 1, 'TGGGGA': 1, 'GGGGAT': 1, 'GGGATG': 1, 'GGATGT': 1, 'GATGTA': 1, 'GTAATT': 1, 'AATTAA': 1, 'ATTAAC': 1, 'AACTGG': 1, 'ACTGGT': 1, 'CTGGTA': 1, 'TGGTAG': 2, 'GGTAGA': 1, 'GTAGAA': 1, 'TAGAAC': 1, 'AGAACA': 1, 'GAACAC': 1, 'ACACTT': 2, 'CACTTG': 1, 'ACTTGC': 1, 'CTTGCC': 1, 'TTGCCC': 1, 'TGCCCA': 1, 'GCCCAG': 1, 'CCCAGT': 2, 'CCAGTG': 1, 'CAGTGC': 1, 'AGTGCG': 1, 'GTGCGC': 1, 'TGCGCA': 1, 'GCGCAC': 1, 'CGCACA': 1, 'GCACAG': 1, 'CACAGA': 2, 'ACAGAG': 2, 'CAGAGC': 1, 'AGAGCC': 1, 'GAGCCC': 1, 'AGCCCT': 1, 'GCCCTG': 1, 'CCCTGG': 1, 'CCTGGA': 1, 'CTGGAT': 1, 'TGGATT': 1, 'GGATTT': 1, 'GATTTA': 1, 'ATTTAA': 3, 'TTAATC': 2, 'TAATCT': 1, 'AATCTG': 1, 'ATCTGC': 1, 'TCTGCA': 1, 'TGCAGC': 1, 'GCAGCA': 1, 'CAGCAC': 2, 'AGCACT': 3, 'GCACTC': 1, 'CACTCA': 1, 'ACTCAA': 1, 'CTCAAA': 2, 'TCAAAA': 2, 'ACTAGG': 1, 'CTAGGG': 1, 'TAGGGC': 1, 'GGGCAG': 1, 'GAGATG': 1, 'AGATGT': 1, 'GATGTG': 1, 'GTGGTA': 1, 'GGTAGT': 1, 'TAGTCA': 1, 'AGTCAA': 1, 'GTCAAC': 1, 'TCAACC': 1, 'CAACCC': 1, 'AACCCA': 2, 'ACCCAC': 2, 'CCCACT': 1, 'CCACTT': 1, 'CACTTT': 1, 'ACTTTC': 1, 'CTTTCC': 1, 'TTTCCT': 1, 'TTCCTG': 1, 'TCCTGG': 1, 'CCTGGC': 1, 'CTGGCA': 2, 'TGGCAC': 1, 'GCACCC': 1, 'CACCCA': 1, 'CCCACA': 1, 'CCACAC': 2, 'CACACA': 2, 'ACAGTG': 1, 'CAGTGG': 1, 'AGTGGC': 1, 'GTGGCT': 1, 'GGCTCC': 1, 'GCTCCA': 1, 'CTCCAA': 1, 'TCCAAC': 1, 'CCAACC': 1, 'CAACCA': 1, 'AACCAT': 2, 'ACCATC': 1, 'CCATCC': 1, 'CATCCC': 1, 'ATCCCT': 1, 'TCCCTA': 1, 'CCCTAA': 1, 'CCTAAC': 1, 'CTAACC': 1, 'TAACCC': 1, 'AACCCC': 1, 'ACCCCA': 1, 'CCCCAG': 2, 'CCAGTT': 1, 'CAGTTC': 1, 'CCAGGG': 1, 'CAGGGG': 1, 'AGGGGA': 1, 'GGGGAC': 1, 'GGGACT': 2, 'GGACTC': 2, 'GACTCC': 1, 'ACTCCA': 1, 'CTCCAC': 2, 'TCCACA': 2, 'ACACCC': 1, 'CACCCT': 1, 'ACCCTC': 1, 'CCCTCC': 1, 'CCTCCT': 2, 'CTCCTG': 1, 'TCCTGT': 1, 'CCTGTG': 1, 'CTGTGG': 2, 'TGTGGC': 1, 'GTGGCC': 1, 'TGGCCT': 1, 'GGCCTC': 1, 'GCCTCA': 1, 'CCTCAA': 1, 'TCAAAG': 2, 'AAGCAC': 2, 'GCACTG': 1, 'CTGCAT': 1, 'TGCATG': 2, 'GCATGC': 1, 'CATGCA': 1, 'ATGCAT': 1, 'GCATGT': 1, 'GTGGTG': 1, 'TGGTGT': 1, 'GGTGTA': 1, 'GTGTAC': 1, 'TGTACA': 1, 'GTACAT': 1, 'TACATT': 1, 'ACATTC': 1, 'TTCTGG': 1, 'TCTGGC': 1, 'TGGCAG': 1, 'AGACAA': 1, 'GACAAG': 1, 'CAAGAC': 1, 'AAGACA': 1, 'GACACT': 1, 'CACTTC': 1, 'ACTTCC': 1, 'TTCCAT': 1, 'TCCATA': 1, 'CCATAT': 1, 'CATATT': 1, 'ATATTA': 2, 'GTAAGA': 1, 'AAGATA': 1, 'AGATAA': 1, 'GATAAT': 1, 'AATTTC': 2, 'TTTCTT': 1, 'TTCTTA': 1, 'CTTAAA': 1, 'TTAAAC': 2, 'TAAACC': 1, 'AAACCC': 1, 'ACCCAA': 1, 'CCCAAG': 1, 'CCAAGC': 1, 'CAAGCA': 1, 'GCACTA': 1, 'CACTAC': 1, 'ACTACC': 1, 'CTACCT': 1, 'TACCTG': 1, 'ACCTGA': 1, 'CCTGAT': 1, 'CTGATG': 1, 'TGATGC': 1, 'GATGCG': 1, 'ATGCGA': 1, 'TGCGAG': 1, 'GCGAGG': 1, 'CGAGGG': 1, 'AGGGCG': 1, 'GGGCGT': 1, 'GGCGTC': 1, 'GCGTCT': 1, 'CGTCTC': 1, 'GTCTCT': 1, 'TCTCTG': 1, 'CTCTGT': 1, 'TCTGTG': 2, 'TGTGGA': 2, 'GTGGAC': 2, 'TGGACT': 1, 'GACTCG': 1, 'ACTCGC': 1, 'CTCGCT': 1, 'TCGCTG': 1, 'CGCTGC': 2, 'CTGCTG': 6, 'CTGCTA': 1, 'GCTACT': 1, 'TACTGC': 1, 'GCTGCC': 1, 'CTGCCG': 1, 'TGCCGC': 2, 'GCCGCC': 1, 'CCGCCG': 1, 'CGCCGC': 1, 'GCCGCT': 2, 'GCTGCA': 1, 'CTGCAC': 1, 'TGCACA': 1, 'GCACAT': 1, 'ACATCT': 1, 'CATCTC': 1, 'ATCTCC': 1, 'TCTCCC': 1, 'CTCCCT': 2, 'TCCCTC': 1, 'CCCTCA': 1, 'CCTCAG': 1, 'CTCAGC': 1, 'CAGCTC': 1, 'AGCTCA': 2, 'TCACAC': 1, 'ACAGAC': 1, 'CAGACC': 1, 'GACCCA': 1, 'ACCCAG': 1, 'CCCAGG': 2, 'CCAGGC': 1, 'CAGGCT': 1, 'AGGCTC': 1, 'GGCTCG': 1, 'GCTCGG': 1, 'CTCGGA': 1, 'TCGGAT': 1, 'CGGATC': 1, 'GGATCA': 1, 'GATCAA': 1, 'ATCAAA': 1, 'CAAAGG': 1, 'AAAGGA': 2, 'AAGGAC': 2, 'GACAGG': 1, 'ACAGGG': 1, 'CAGGGA': 1, 'AGGGAC': 1, 'GGGACC': 1, 'GACCTG': 1, 'ACCTGC': 1, 'CCTGCG': 1, 'CTGCGG': 1, 'TGCGGC': 1, 'GCGGCG': 1, 'CGGCGC': 1, 'GGCGCT': 1, 'GCGCTT': 1, 'CGCTTC': 1, 'GCTTCC': 1, 'CTTCCG': 1, 'TTCCGG': 1, 'TCCGGT': 1, 'CCGGTG': 1, 'CGGTGC': 1, 'GGTGCC': 1, 'GTGCCG': 1, 'CCGCTC': 1, 'CGCTCC': 1, 'GCTCCC': 1, 'CTCCCC': 1, 'TCCCCA': 2, 'CCAGGT': 1, 'CAGGTA': 1, 'AGGTAG': 1, 'GGTAGC': 1, 'GTAGCT': 1, 'TAGCTC': 1, 'GCTCAT': 1, 'CTCATC': 1, 'TCATCT': 1, 'CATCTG': 1, 'ATCTGT': 2, 'CTGTGT': 1, 'TGTGTT': 1, 'TCTTCT': 1, 'CTTCTA': 2, 'TCTATA': 1, 'CTATAG': 1, 'TAGATT': 1, 'TTAAAG': 1, 'GGACAT': 1, 'GACATG': 1, 'ACATGG': 1, 'CATGGG': 1, 'ATGGGG': 1, 'TGGGGT': 1, 'GGGGTT': 1, 'GGGTTA': 1, 'GGTTAA': 1, 'AAACTC': 1, 'AACTCC': 1, 'ACTCCC': 1, 'CTGTAC': 1, 'TGTACT': 1, 'GTACTG': 1, 'TACTGG': 1, 'ACTGGG': 1, 'TGGGAC': 1, 'GGACTG': 1, 'GACTGA': 1, 'CTGATT': 2, 'TGATTT': 1, 'GATTTG': 1, 'TTTGAG': 1, 'TTGAGA': 1, 'TGAGAT': 1, 'AGATTG': 1, 'GATTGA': 1, 'ATTGAA': 1, 'TGAAAT': 1, 'GAAATA': 1, 'AAATAT': 1, 'AATATC': 1, 'TATCTT': 1, 'ATCTTC': 1, 'TTCAGC': 2, 'TCAGCA': 2, 'AGCACC': 1, 'GCACCT': 1, 'CACCTA': 1, 'ACCTAT': 1, 'CCTATT': 1, 'CTATTT': 1, 'TTTGCA': 1, 'TTGCAA': 2, 'TGCAAC': 2, 'GCAACA': 1, 'CAACAA': 1, 'CAAAAT': 1, 'AAAATT': 1, 'ATTTCA': 1, 'TTCAAT': 1, 'CAATTA': 1, 'TAAACA': 1, 'AAACAG': 1, 'AACAGA': 1, 'AGAGAA': 1, 'GAGAAG': 1, 'AGAAGT': 1, 'GAAGTG': 1, 'AAGTGA': 1, 'AGTGAA': 1, 'GTGAAC': 1, 'TGAACC': 1, 'GAACCA': 1, 'ACCATT': 1, 'CATTAA': 1, 'TTAATG': 1, 'ATGTTT': 1, 'TGTTTC': 2, 'GTTTCA': 2, 'CAAAAG': 1, 'AAAGTC': 1, 'AAGTCA': 1, 'GCAGTG': 1, 'CAGTGT': 1, 'GTGTTT': 1, 'TTTCAT': 1, 'TTCATT': 1, 'TCATTG': 1, 'CATTGG': 1, 'ATTGGA': 1, 'TTGGAT': 1, 'TGGATC': 1, 'GGATCT': 1, 'GATCTG': 1, 'CTGTTC': 1, 'TGTTCA': 1, 'GTTCAG': 1, 'CAGCTA': 1, 'AGCTAC': 1, 'GCTACA': 1, 'CTACAC': 1, 'TACACA': 1, 'CACATA': 1, 'ATAAGC': 1, 'TAAGCT': 2, 'AAGCTC': 1, 'AGCTCT': 1, 'CTCTAC': 1, 'TCTACT': 1, 'CTACTT': 1, 'TACTTC': 1, 'ACTTCT': 1, 'CTAAGC': 1, 'AAGCTT': 1, 'GCTTGC': 1, 'CTTGCA': 1, 'GCAACC': 1, 'CAACCT': 1, 'AACCTT': 1, 'ACCTTC': 1, 'CCTTCT': 1, 'CTTCTT': 1, 'TTCTTT': 1, 'TCTTTG': 1, 'CTTTGT': 1, 'TTTGTG': 1, 'TTGTGG': 1, 'TGGACG': 1, 'GGACGT': 1, 'GACGTT': 1, 'ACGTTA': 1, 'CGTTAC': 1, 'GTTACC': 1, 'TTACCT': 1, 'TACCTC': 1, 'ACCTCC': 1, 'CCTCCA': 1, 'CCACAA': 1, 'CACAAG': 1, 'ACAAGT': 1, 'AGTTAC': 1, 'GTTACT': 1, 'TTACTC': 1, 'TACTCA': 1, 'ACTCAT': 1, 'CTCATT': 1, 'CATTTA': 1, 'TAATCC': 1, 'AATCCT': 1, 'ATCCTC': 1, 'TCCTCC': 1, 'CTCCTA': 1, 'TCCTAG': 1, 'CCTAGT': 1, 'CTAGTG': 1, 'TAGTGC': 1, 'AGTGCT': 1, 'GTGCTT': 1, 'TGCTTT': 1, 'GCTTTT': 1, 'CTTTTA': 1, 'TTTTAC': 1, 'TTTACT': 1, 'TTACTG': 1, 'TGATTC': 1, 'TCAACA': 1, 'CAACAG': 1, 'AACAGT': 1, 'ACAGTA': 1, 'CAGTAC': 1, 'AGTACA': 1, 'GTACAC': 1, 'TACACG': 1, 'ACACGA': 1, 'CACGAT': 1, 'ACGATT': 1, 'CGATTT': 1, 'GATTTC': 1, 'ATTTCC': 1, 'TTTCCC': 1, 'TTCCCC': 1, 'CCCCAT': 1}\n"
     ]
    }
   ],
   "source": [
    "seq='TGAGTTCCAGGACAGCCAAGAGTCAGAACTAAATAAGAGACCCTGTCTCACAAAAATGCAAACAAGAGATTCAACTTCAAATCATACACTAAGTTCATCCGCAAATCAACTTACTTACAACTGATAAAAATACACTGCTCTAGAATTCAGGACACAGGCATTCTCAATTTGCTACCAAGATGCTGCTTAACTGCAGACACATCATTTCTCTTCCAGAAAATACAGTCAGCTTGACATAAAAGTAGTCTTTTTTTTTTAAGATTAATTTATTATTATATCTAAGTATACTGTTGCTGTCTTCAGACACACCAGAAGAGGGCACCAGATCCCATTATAGATGGTTGTGAGCCACCATGTGGTTGCTGGGAGTTGAACTCAGGACCTCTGGAAGAGCAGTCAGGGCTCTTAACCGCTGAGCTTTCAAGTTCTAGCCTGTCTTATTAAATGTAATAATTAGTTGTAGGATCCTTTAACAAATTATTTGAAACACTATCAGGCATAGTGTTCCCTGTAAATAAAGGGTAAAACTACTGAGACTAATGTTCTCATAAGTAAGTTAAAACAAAGCAAAACACAGTTGTATTAAAAGCATTTTCACTTAAGTTTAAAAAGTAACAAATTTTTAATATGGAAGATTTTTAGAAGAGCATATATATATATATATATATATATATATATATATATATATATATATATATTCTGTTTTGACAGCAGGTCAGGTTCTATTCTAAGAAACTAGATAGGCAGAGATCCGCAGAGAGGTTGGCTCACTGACTGTTGGGTGTTGGGGATGTAATTAACTGGTAGAACACTTGCCCAGTGCGCACAGAGCCCTGGATTTAATCTGCAGCACTCAAAACTAGGGCAGAGATGTGGTAGTCAACCCACTTTCCTGGCACCCACACAGTGGCTCCAACCATCCCTAACCCCAGTTCCAGGGGACTCCACACCCTCCTGTGGCCTCAAAGCACTGCATGCATGTGGTGTACATTCTGGCAGACAAGACACTTCCATATTAAAAAGTAAGATAATTTCTTAAACCCAAGCACTACCTGATGCGAGGGCGTCTCTGTGGACTCGCTGCTGCTGCTGCTACTGCTGCTGCTGCCGCCGCTGCACATCTCCCTCAGCTCACACAGACCCAGGCTCGGATCAAAGGACAGGGACCTGCGGCGCTTCCGGTGCCGCTCCCCAGGTAGCTCATCTGTGTTCTCTTCTATAGATTAAAGGACATGGGGTTAAAACTCCCTGTACTGGGACTGATTTGAGATTGAAATATCTTCAGCACCTATTTGCAACAAAATTTAATTTCAATTATATTAAACAGAGAAGTGAACCATTAATGTTTCAAAAGTCAGCAGTGTTTCATTGGATCTGTTCAGCTACACATAAGCTCTACTTCTAAGCTTGCAACCTTCTTTGTGGACGTTACCTCCACAAGTTACTCATTTAATCCTCCTAGTGCTTTTACTGATTCAACAGTACACGATTTCCCCAT'\n",
    "\n",
    "klist = []\n",
    "for k in range(0, (len(seq)-5)):\n",
    "    klist.append(seq[k]+seq[k+1]+seq[k+2]+seq[k+3]+seq[k+4]+seq[k+5])\n",
    "#print(klist)\n",
    "\n",
    "kmers={}\n",
    "for i in klist:\n",
    "    kmers.setdefault(i, 0) #I found this line online to get past the error that occurs at the very first i\n",
    "    kmers[i]+=1\n",
    "print(kmers)\n",
    "    \n"
   ]
  }
 ],
 "metadata": {
  "anaconda-cloud": {},
  "kernelspec": {
   "display_name": "Python 3",
   "language": "python",
   "name": "python3"
  },
  "language_info": {
   "codemirror_mode": {
    "name": "ipython",
    "version": 3
   },
   "file_extension": ".py",
   "mimetype": "text/x-python",
   "name": "python",
   "nbconvert_exporter": "python",
   "pygments_lexer": "ipython3",
   "version": "3.7.6"
  }
 },
 "nbformat": 4,
 "nbformat_minor": 2
}
